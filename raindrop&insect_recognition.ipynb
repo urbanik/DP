{
  "nbformat": 4,
  "nbformat_minor": 0,
  "metadata": {
    "accelerator": "GPU",
    "colab": {
      "name": "raindrop&insect_recognition.ipynb",
      "provenance": [],
      "collapsed_sections": [],
      "toc_visible": true,
      "include_colab_link": true
    },
    "kernelspec": {
      "display_name": "Python 3",
      "language": "python",
      "name": "python3"
    },
    "language_info": {
      "codemirror_mode": {
        "name": "ipython",
        "version": 3
      },
      "file_extension": ".py",
      "mimetype": "text/x-python",
      "name": "python",
      "nbconvert_exporter": "python",
      "pygments_lexer": "ipython3",
      "version": "3.7.7"
    },
    "widgets": {
      "application/vnd.jupyter.widget-state+json": {
        "a63348ed97c24f9da83626fa63c57c58": {
          "model_module": "@jupyter-widgets/controls",
          "model_name": "HBoxModel",
          "state": {
            "_view_name": "HBoxView",
            "_dom_classes": [],
            "_model_name": "HBoxModel",
            "_view_module": "@jupyter-widgets/controls",
            "_model_module_version": "1.5.0",
            "_view_count": null,
            "_view_module_version": "1.5.0",
            "box_style": "",
            "layout": "IPY_MODEL_b2d9039034954ccdaa44535cb634d8b7",
            "_model_module": "@jupyter-widgets/controls",
            "children": [
              "IPY_MODEL_0dc26352f2094699b0a939b43f3e4fa0",
              "IPY_MODEL_3f7642cbac4b424d914373737dc768db"
            ]
          }
        },
        "b2d9039034954ccdaa44535cb634d8b7": {
          "model_module": "@jupyter-widgets/base",
          "model_name": "LayoutModel",
          "state": {
            "_view_name": "LayoutView",
            "grid_template_rows": null,
            "right": null,
            "justify_content": null,
            "_view_module": "@jupyter-widgets/base",
            "overflow": null,
            "_model_module_version": "1.2.0",
            "_view_count": null,
            "flex_flow": null,
            "width": null,
            "min_width": null,
            "border": null,
            "align_items": null,
            "bottom": null,
            "_model_module": "@jupyter-widgets/base",
            "top": null,
            "grid_column": null,
            "overflow_y": null,
            "overflow_x": null,
            "grid_auto_flow": null,
            "grid_area": null,
            "grid_template_columns": null,
            "flex": null,
            "_model_name": "LayoutModel",
            "justify_items": null,
            "grid_row": null,
            "max_height": null,
            "align_content": null,
            "visibility": null,
            "align_self": null,
            "height": null,
            "min_height": null,
            "padding": null,
            "grid_auto_rows": null,
            "grid_gap": null,
            "max_width": null,
            "order": null,
            "_view_module_version": "1.2.0",
            "grid_template_areas": null,
            "object_position": null,
            "object_fit": null,
            "grid_auto_columns": null,
            "margin": null,
            "display": null,
            "left": null
          }
        },
        "0dc26352f2094699b0a939b43f3e4fa0": {
          "model_module": "@jupyter-widgets/controls",
          "model_name": "FloatProgressModel",
          "state": {
            "_view_name": "ProgressView",
            "style": "IPY_MODEL_7a68dbc43043421b8ee1ee1bb8a7989b",
            "_dom_classes": [],
            "description": "100%",
            "_model_name": "FloatProgressModel",
            "bar_style": "success",
            "max": 244418560,
            "_view_module": "@jupyter-widgets/controls",
            "_model_module_version": "1.5.0",
            "value": 244418560,
            "_view_count": null,
            "_view_module_version": "1.5.0",
            "orientation": "horizontal",
            "min": 0,
            "description_tooltip": null,
            "_model_module": "@jupyter-widgets/controls",
            "layout": "IPY_MODEL_1355effe4ebf4765b9d527458ac49d5b"
          }
        },
        "3f7642cbac4b424d914373737dc768db": {
          "model_module": "@jupyter-widgets/controls",
          "model_name": "HTMLModel",
          "state": {
            "_view_name": "HTMLView",
            "style": "IPY_MODEL_4252d943a1624cff89ead63ad210cf4b",
            "_dom_classes": [],
            "description": "",
            "_model_name": "HTMLModel",
            "placeholder": "​",
            "_view_module": "@jupyter-widgets/controls",
            "_model_module_version": "1.5.0",
            "value": " 233M/233M [02:52&lt;00:00, 1.41MB/s]",
            "_view_count": null,
            "_view_module_version": "1.5.0",
            "description_tooltip": null,
            "_model_module": "@jupyter-widgets/controls",
            "layout": "IPY_MODEL_c5ec6b6444de4e3991dd207ade502a8b"
          }
        },
        "7a68dbc43043421b8ee1ee1bb8a7989b": {
          "model_module": "@jupyter-widgets/controls",
          "model_name": "ProgressStyleModel",
          "state": {
            "_view_name": "StyleView",
            "_model_name": "ProgressStyleModel",
            "description_width": "initial",
            "_view_module": "@jupyter-widgets/base",
            "_model_module_version": "1.5.0",
            "_view_count": null,
            "_view_module_version": "1.2.0",
            "bar_color": null,
            "_model_module": "@jupyter-widgets/controls"
          }
        },
        "1355effe4ebf4765b9d527458ac49d5b": {
          "model_module": "@jupyter-widgets/base",
          "model_name": "LayoutModel",
          "state": {
            "_view_name": "LayoutView",
            "grid_template_rows": null,
            "right": null,
            "justify_content": null,
            "_view_module": "@jupyter-widgets/base",
            "overflow": null,
            "_model_module_version": "1.2.0",
            "_view_count": null,
            "flex_flow": null,
            "width": null,
            "min_width": null,
            "border": null,
            "align_items": null,
            "bottom": null,
            "_model_module": "@jupyter-widgets/base",
            "top": null,
            "grid_column": null,
            "overflow_y": null,
            "overflow_x": null,
            "grid_auto_flow": null,
            "grid_area": null,
            "grid_template_columns": null,
            "flex": null,
            "_model_name": "LayoutModel",
            "justify_items": null,
            "grid_row": null,
            "max_height": null,
            "align_content": null,
            "visibility": null,
            "align_self": null,
            "height": null,
            "min_height": null,
            "padding": null,
            "grid_auto_rows": null,
            "grid_gap": null,
            "max_width": null,
            "order": null,
            "_view_module_version": "1.2.0",
            "grid_template_areas": null,
            "object_position": null,
            "object_fit": null,
            "grid_auto_columns": null,
            "margin": null,
            "display": null,
            "left": null
          }
        },
        "4252d943a1624cff89ead63ad210cf4b": {
          "model_module": "@jupyter-widgets/controls",
          "model_name": "DescriptionStyleModel",
          "state": {
            "_view_name": "StyleView",
            "_model_name": "DescriptionStyleModel",
            "description_width": "",
            "_view_module": "@jupyter-widgets/base",
            "_model_module_version": "1.5.0",
            "_view_count": null,
            "_view_module_version": "1.2.0",
            "_model_module": "@jupyter-widgets/controls"
          }
        },
        "c5ec6b6444de4e3991dd207ade502a8b": {
          "model_module": "@jupyter-widgets/base",
          "model_name": "LayoutModel",
          "state": {
            "_view_name": "LayoutView",
            "grid_template_rows": null,
            "right": null,
            "justify_content": null,
            "_view_module": "@jupyter-widgets/base",
            "overflow": null,
            "_model_module_version": "1.2.0",
            "_view_count": null,
            "flex_flow": null,
            "width": null,
            "min_width": null,
            "border": null,
            "align_items": null,
            "bottom": null,
            "_model_module": "@jupyter-widgets/base",
            "top": null,
            "grid_column": null,
            "overflow_y": null,
            "overflow_x": null,
            "grid_auto_flow": null,
            "grid_area": null,
            "grid_template_columns": null,
            "flex": null,
            "_model_name": "LayoutModel",
            "justify_items": null,
            "grid_row": null,
            "max_height": null,
            "align_content": null,
            "visibility": null,
            "align_self": null,
            "height": null,
            "min_height": null,
            "padding": null,
            "grid_auto_rows": null,
            "grid_gap": null,
            "max_width": null,
            "order": null,
            "_view_module_version": "1.2.0",
            "grid_template_areas": null,
            "object_position": null,
            "object_fit": null,
            "grid_auto_columns": null,
            "margin": null,
            "display": null,
            "left": null
          }
        }
      }
    }
  },
  "cells": [
    {
      "cell_type": "markdown",
      "metadata": {
        "id": "view-in-github",
        "colab_type": "text"
      },
      "source": [
        "<a href=\"https://colab.research.google.com/github/urbanik/DP/blob/main/raindrop%26insect_recognition.ipynb\" target=\"_parent\"><img src=\"https://colab.research.google.com/assets/colab-badge.svg\" alt=\"Open In Colab\"/></a>"
      ]
    },
    {
      "cell_type": "markdown",
      "metadata": {
        "id": "ag4fD0y_lOnu"
      },
      "source": [
        "Next look at:\r\n",
        "\r\n",
        "Why use validation \r\n",
        "\r\n",
        "https://machinelearningmastery.com/difference-test-validation-datasets/\r\n",
        "\r\n",
        "Regularization & Dropout (useful when model overfits, instead of more data)\r\n",
        "\r\n",
        "https://towardsdatascience.com/how-to-improve-a-neural-network-with-regularization-8a18ecda9fe3\r\n",
        "\r\n",
        "BatchNormalization"
      ]
    },
    {
      "cell_type": "markdown",
      "metadata": {
        "id": "4QfeqCA1EJKX"
      },
      "source": [
        "Imports"
      ]
    },
    {
      "cell_type": "code",
      "metadata": {
        "id": "wi62TveTDWYQ"
      },
      "source": [
        "import torch, torchvision\n",
        "from torchvision import transforms, models\n",
        "import torch.nn as nn\n",
        "import torch.optim as optim\n",
        "from torch.utils.data import Dataset, DataLoader\n",
        "#from torchsummary import summary\n",
        "\n",
        "import numpy as np\n",
        "from skimage import io\n",
        "import pandas as pd\n",
        "import os\n",
        "from PIL import Image, ImageDraw\n",
        "import matplotlib.pyplot as plt\n",
        "import time"
      ],
      "execution_count": 2,
      "outputs": []
    },
    {
      "cell_type": "code",
      "metadata": {
        "id": "bOXoUZifE2HT"
      },
      "source": [
        "!cp './drive/MyDrive/Colab Notebooks/DATA/ARIAS_images.zip' './ARIAS_images.zip'\r\n",
        "!unzip -q -o './ARIAS_images.zip'\r\n",
        "!rm -f './ARIAS_images.zip'"
      ],
      "execution_count": 3,
      "outputs": []
    },
    {
      "cell_type": "markdown",
      "metadata": {
        "id": "rCd7KaGMPswz"
      },
      "source": [
        "**Device**\r\n",
        "\r\n",
        "What is cuda - https://www.infoworld.com/article/3299703/what-is-cuda-parallel-programming-for-gpus.html\r\n",
        "\r\n",
        "Cuda is parallel computing platform and programming model "
      ]
    },
    {
      "cell_type": "code",
      "metadata": {
        "id": "L6ZvZsLAPs_M"
      },
      "source": [
        "device = torch.device(\"cuda:0\" if torch.cuda.is_available() else \"cpu\")"
      ],
      "execution_count": 4,
      "outputs": []
    },
    {
      "cell_type": "markdown",
      "metadata": {
        "id": "5QL5DrSVDWYW"
      },
      "source": [
        "# **Dataset**\n",
        "Data transformation - different sizes of input pictures of adherent raindrops and insect\n",
        "\n",
        "Creating batches of different sizes \n",
        "https://discuss.pytorch.org/t/how-to-create-a-dataloader-with-variable-size-input/8278\n",
        "\n",
        "Custom dataset \n",
        "https://www.youtube.com/watch?v=ZoZHd0Zm3RY\n",
        "Custam dataset on Google Colab\n",
        "https://www.youtube.com/watch?v=b4R9WvfHs4M\n",
        "\n",
        "\n",
        "Resizing\n",
        "https://discuss.pytorch.org/t/does-resize-affect-image-details/86503\n",
        "\n",
        "\n",
        "https://pytorch.org/docs/stable/torchvision/transforms.html\n",
        "\n",
        "PIL resizing MODES \n",
        "\n",
        "https://pillow.readthedocs.io/en/3.0.0/reference/Image.html\n",
        "\n"
      ]
    },
    {
      "cell_type": "code",
      "metadata": {
        "id": "SxHQct26DWYX"
      },
      "source": [
        "#ARIAS - Adherent Raindrops, Insect And Sun\n",
        "class ARIAS_dataset(Dataset):\n",
        "  def __init__(self, csv_file, root_dir, transform = None):\n",
        "    self.annotations = pd.read_csv(csv_file)\n",
        "    self.root_dir = root_dir\n",
        "    self.transform = transform\n",
        "\n",
        "  def __len__(self):\n",
        "    return len(self.annotations)\n",
        "\n",
        "  def __getitem__(self, index):\n",
        "    img_path = os.path.join(self.root_dir, self.annotations.iloc[index, 0])\n",
        "    image = io.imread(img_path)\n",
        "    y_label = torch.tensor(int(self.annotations.iloc[index, 1]))\n",
        "\n",
        "    if self.transform:\n",
        "      img_PIL = transforms.ToPILImage()(image)\n",
        "      img_PIL = transforms.Resize([100, 100])(img_PIL) # average width = 149 and height = 132 from dataset\n",
        "      img = self.transform(img_PIL)\n",
        "      \n",
        "    \n",
        "    return img, y_label"
      ],
      "execution_count": 5,
      "outputs": []
    },
    {
      "cell_type": "markdown",
      "metadata": {
        "id": "vwG5qbF3XLzi"
      },
      "source": [
        "Dataset loading"
      ]
    },
    {
      "cell_type": "code",
      "metadata": {
        "colab": {
          "base_uri": "https://localhost:8080/"
        },
        "id": "Mo2m6-ArGAYc",
        "outputId": "d9212f74-6caa-40ae-fda6-b64e2af05d01"
      },
      "source": [
        "dataset = ARIAS_dataset(csv_file='/content/drive/MyDrive/Colab Notebooks/DATA/ARIAS_labels.csv', root_dir='ARIAS_images', transform=transforms.ToTensor())\r\n",
        "len(dataset)"
      ],
      "execution_count": 6,
      "outputs": [
        {
          "output_type": "execute_result",
          "data": {
            "text/plain": [
              "6651"
            ]
          },
          "metadata": {
            "tags": []
          },
          "execution_count": 6
        }
      ]
    },
    {
      "cell_type": "markdown",
      "metadata": {
        "id": "TvEM8IVcDwwQ"
      },
      "source": [
        "Data split\r\n",
        "\r\n",
        "https://stackoverflow.com/questions/38250710/how-to-split-data-into-3-sets-train-validation-and-test\r\n",
        "\r\n",
        "https://towardsdatascience.com/train-validation-and-test-sets-72cb40cba9e7"
      ]
    },
    {
      "cell_type": "code",
      "metadata": {
        "id": "Ns5kBjcCDWYY"
      },
      "source": [
        "train_set, valid_set, test_set = torch.utils.data.random_split(dataset, [3990, 1330, 1331]) # why? 60 - 20 -20\n",
        "\n",
        "train_data_size = len(train_set)\n",
        "valid_data_size = len(valid_set)\n",
        "\n",
        "\n",
        "\n",
        "\n",
        "\n",
        "\n",
        "\n",
        "# Get a mapping of the indices to the class names, in order to see the output classes of the test images. -NOT WOKING YET\n",
        "#idx_to_class = {v: k for k, v in train_set.class_to_idx.items()}\n",
        "#print(idx_to_class)\n",
        "\n",
        "# loaders\n",
        "batch_size = 32\n",
        "train_data_loader = DataLoader(dataset=train_set, batch_size=batch_size, shuffle=True)\n",
        "valid_data_loader = DataLoader(dataset=valid_set, batch_size=batch_size, shuffle=False)\n",
        "test_data_loader = DataLoader(dataset=test_set, batch_size=1331, shuffle=False)"
      ],
      "execution_count": 7,
      "outputs": []
    },
    {
      "cell_type": "code",
      "metadata": {
        "colab": {
          "base_uri": "https://localhost:8080/",
          "height": 305
        },
        "id": "sBn0_iuKDWYY",
        "outputId": "551af428-6bc2-4b96-9217-b801784ffd6c"
      },
      "source": [
        "example = test_set[2]\n",
        "print(example[1])\n",
        "plt.imshow(transforms.ToPILImage()(example[0]), interpolation=\"bicubic\")"
      ],
      "execution_count": 8,
      "outputs": [
        {
          "output_type": "stream",
          "text": [
            "tensor(0)\n"
          ],
          "name": "stdout"
        },
        {
          "output_type": "execute_result",
          "data": {
            "text/plain": [
              "<matplotlib.image.AxesImage at 0x7f1d0aee0a58>"
            ]
          },
          "metadata": {
            "tags": []
          },
          "execution_count": 8
        },
        {
          "output_type": "display_data",
          "data": {
            "image/png": "[encoded data removed]",
            "text/plain": [
              "<Figure size 432x288 with 1 Axes>"
            ]
          },
          "metadata": {
            "tags": [],
            "needs_background": "light"
          }
        }
      ]
    },
    {
      "cell_type": "markdown",
      "metadata": {
        "id": "E3xncLlJJgz0"
      },
      "source": [
        "Data classes"
      ]
    },
    {
      "cell_type": "code",
      "metadata": {
        "id": "Yfl4Gw7iJidr"
      },
      "source": [
        "classes = ['nothing', 'raindrop', 'insect', 'sun']"
      ],
      "execution_count": 9,
      "outputs": []
    },
    {
      "cell_type": "markdown",
      "metadata": {
        "id": "fw5scAQ-DWYa"
      },
      "source": [
        "ALEXNET\n",
        "https://www.youtube.com/watch?v=8etkVC93yU4"
      ]
    },
    {
      "cell_type": "code",
      "metadata": {
        "id": "NwgbLInWDWYc",
        "colab": {
          "base_uri": "https://localhost:8080/",
          "height": 86,
          "referenced_widgets": [
            "a63348ed97c24f9da83626fa63c57c58",
            "b2d9039034954ccdaa44535cb634d8b7",
            "0dc26352f2094699b0a939b43f3e4fa0",
            "3f7642cbac4b424d914373737dc768db",
            "7a68dbc43043421b8ee1ee1bb8a7989b",
            "1355effe4ebf4765b9d527458ac49d5b",
            "4252d943a1624cff89ead63ad210cf4b",
            "c5ec6b6444de4e3991dd207ade502a8b"
          ]
        },
        "outputId": "7fd969a0-ae16-4ed6-b4d7-fcd4fa5fcb7d"
      },
      "source": [
        "AlexNet = models.alexnet(pretrained=True)\n",
        "AlexNet#freezing parameters\n",
        "for param in AlexNet.parameters():\n",
        "  param.requires_grad = False\n"
      ],
      "execution_count": 10,
      "outputs": [
        {
          "output_type": "stream",
          "text": [
            "Downloading: \"https://download.pytorch.org/models/alexnet-owt-4df8aa71.pth\" to /root/.cache/torch/hub/checkpoints/alexnet-owt-4df8aa71.pth\n"
          ],
          "name": "stderr"
        },
        {
          "output_type": "display_data",
          "data": {
            "application/vnd.jupyter.widget-view+json": {
              "model_id": "a63348ed97c24f9da83626fa63c57c58",
              "version_minor": 0,
              "version_major": 2
            },
            "text/plain": [
              "HBox(children=(FloatProgress(value=0.0, max=244418560.0), HTML(value='')))"
            ]
          },
          "metadata": {
            "tags": []
          }
        },
        {
          "output_type": "stream",
          "text": [
            "\n"
          ],
          "name": "stdout"
        }
      ]
    },
    {
      "cell_type": "markdown",
      "metadata": {
        "id": "AnzqhSAfDWYc"
      },
      "source": [
        "TRANSFER LEARNING\n",
        "\n",
        "The basic premise of transfer learning is simple: take a model trained on a large dataset and transfer its knowledge to a smaller dataset. For object recognition with a CNN, we freeze the early convolutional layers of the network and only train the last few layers which make a prediction.\n",
        "\n",
        "https://machinelearningmastery.com/transfer-learning-for-deep-learning/\n",
        "\n",
        "Example of implementation -\n",
        "https://www.youtube.com/watch?v=8etkVC93yU4\n",
        "\n",
        "Github - https://github.com/madsendennis/notebooks/blob/master/pytorch/3_PyTorch_Transfer_learning.ipynb \n",
        "\n",
        "Similar work - https://github.com/GTC7788/raindropDetection\n",
        "\n",
        "https://github.com/tobybreckon/raindrop-detection-cnn"
      ]
    },
    {
      "cell_type": "code",
      "metadata": {
        "id": "J3hWsu6kDWYc"
      },
      "source": [
        "#freezing parameters - TRANSFERLEARNING\n",
        "for param in AlexNet.parameters():\n",
        "  param.requires_grad = False\n"
      ],
      "execution_count": 11,
      "outputs": []
    },
    {
      "cell_type": "code",
      "metadata": {
        "colab": {
          "base_uri": "https://localhost:8080/"
        },
        "id": "6ADfPMl5DWYd",
        "outputId": "901bfc5f-5832-4b14-d5d6-fb79e80015ad"
      },
      "source": [
        "#change of the final layer of AlexNet model \n",
        "AlexNet.classifier[6] = nn.Linear(4096, 4) # we have 4 classes already\n",
        "AlexNet.classifier.add_module(\"7\", nn.LogSoftmax(dim=1))\n",
        "AlexNet.to(device) # in case we use GPU"
      ],
      "execution_count": 12,
      "outputs": [
        {
          "output_type": "execute_result",
          "data": {
            "text/plain": [
              "AlexNet(\n",
              "  (features): Sequential(\n",
              "    (0): Conv2d(3, 64, kernel_size=(11, 11), stride=(4, 4), padding=(2, 2))\n",
              "    (1): ReLU(inplace=True)\n",
              "    (2): MaxPool2d(kernel_size=3, stride=2, padding=0, dilation=1, ceil_mode=False)\n",
              "    (3): Conv2d(64, 192, kernel_size=(5, 5), stride=(1, 1), padding=(2, 2))\n",
              "    (4): ReLU(inplace=True)\n",
              "    (5): MaxPool2d(kernel_size=3, stride=2, padding=0, dilation=1, ceil_mode=False)\n",
              "    (6): Conv2d(192, 384, kernel_size=(3, 3), stride=(1, 1), padding=(1, 1))\n",
              "    (7): ReLU(inplace=True)\n",
              "    (8): Conv2d(384, 256, kernel_size=(3, 3), stride=(1, 1), padding=(1, 1))\n",
              "    (9): ReLU(inplace=True)\n",
              "    (10): Conv2d(256, 256, kernel_size=(3, 3), stride=(1, 1), padding=(1, 1))\n",
              "    (11): ReLU(inplace=True)\n",
              "    (12): MaxPool2d(kernel_size=3, stride=2, padding=0, dilation=1, ceil_mode=False)\n",
              "  )\n",
              "  (avgpool): AdaptiveAvgPool2d(output_size=(6, 6))\n",
              "  (classifier): Sequential(\n",
              "    (0): Dropout(p=0.5, inplace=False)\n",
              "    (1): Linear(in_features=9216, out_features=4096, bias=True)\n",
              "    (2): ReLU(inplace=True)\n",
              "    (3): Dropout(p=0.5, inplace=False)\n",
              "    (4): Linear(in_features=4096, out_features=4096, bias=True)\n",
              "    (5): ReLU(inplace=True)\n",
              "    (6): Linear(in_features=4096, out_features=4, bias=True)\n",
              "    (7): LogSoftmax(dim=1)\n",
              "  )\n",
              ")"
            ]
          },
          "metadata": {
            "tags": []
          },
          "execution_count": 12
        }
      ]
    },
    {
      "cell_type": "markdown",
      "metadata": {
        "id": "56fO3cv0DWYf"
      },
      "source": [
        "Loss function\n",
        "NLLLoss - https://pytorch.org/docs/stable/generated/torch.nn.NLLLoss.html\n",
        "\n",
        "Loss functions in PyTorch - https://heartbeat.fritz.ai/the-right-loss-function-pytorch-58d2c0d77404\n",
        "\n",
        "Loss dunction crossentropyloss (combination of logSoftmax and NLLLoss) - https://pytorch.org/docs/stable/generated/torch.nn.CrossEntropyLoss.html \n",
        "Cross-validation - https://en.wikipedia.org/wiki/Cross-validation_%28statistics%29\n"
      ]
    },
    {
      "cell_type": "code",
      "metadata": {
        "id": "-Mg0uz8JDWYf"
      },
      "source": [
        "loss_func = nn.CrossEntropyLoss()"
      ],
      "execution_count": 13,
      "outputs": []
    },
    {
      "cell_type": "markdown",
      "metadata": {
        "id": "_rhDA3aSDhAo"
      },
      "source": [
        "Optimizer"
      ]
    },
    {
      "cell_type": "code",
      "metadata": {
        "colab": {
          "base_uri": "https://localhost:8080/"
        },
        "id": "wfkRH8iaDgGL",
        "outputId": "8a1895f0-5c28-41ce-f005-b1ea3ce2fedd"
      },
      "source": [
        "optimizer = optim.Adam(AlexNet.parameters())\r\n",
        "optimizer"
      ],
      "execution_count": 14,
      "outputs": [
        {
          "output_type": "execute_result",
          "data": {
            "text/plain": [
              "Adam (\n",
              "Parameter Group 0\n",
              "    amsgrad: False\n",
              "    betas: (0.9, 0.999)\n",
              "    eps: 1e-08\n",
              "    lr: 0.001\n",
              "    weight_decay: 0\n",
              ")"
            ]
          },
          "metadata": {
            "tags": []
          },
          "execution_count": 14
        }
      ]
    },
    {
      "cell_type": "markdown",
      "metadata": {
        "id": "xGU5xkQgDWYf"
      },
      "source": [
        "Train and validate function"
      ]
    },
    {
      "cell_type": "code",
      "metadata": {
        "id": "fTqI27BTDWYg"
      },
      "source": [
        "def train_and_validate(model, loss_criterion, optimizer, epochs=25):\n",
        "  start = time.time()\n",
        "  history = []\n",
        "  best_acc = 0.0\n",
        "  best_model = None\n",
        "  for epoch in range(epochs):\n",
        "    epoch_start = time.time()\n",
        "    print(\"Epoch: {}/{}\".format(epoch+1, epochs))\n",
        "\n",
        "    model.train()\n",
        "\n",
        "    train_loss = 0.0\n",
        "    train_acc = 0.0\n",
        "\n",
        "    valid_loss = 0.0\n",
        "    valid_acc = 0.0\n",
        "\n",
        "    for i, (inputs, labels) in enumerate(train_data_loader):\n",
        "\n",
        "      inputs = inputs.to(device)\n",
        "      labels = labels.to(device)\n",
        "\n",
        "      optimizer.zero_grad() # clean existing gradients\n",
        "\n",
        "      # Forward pass - compute outputs on input data using the model\n",
        "      outputs = model(inputs)\n",
        "      \n",
        "      # Compute loss\n",
        "      loss = loss_criterion(outputs, labels)\n",
        "      \n",
        "      # Backpropagate the gradients\n",
        "      loss.backward()\n",
        "      \n",
        "      # Update the parameters\n",
        "      optimizer.step()\n",
        "      \n",
        "      # Compute the total loss for the batch and add it to train_loss\n",
        "      train_loss += loss.item() * inputs.size(0)\n",
        "      \n",
        "      # Compute the accuracy\n",
        "      ret, predictions = torch.max(outputs.data, 1)\n",
        "      correct_counts = predictions.eq(labels.data.view_as(predictions))\n",
        "      \n",
        "      # Convert correct_counts to float and then compute the mean\n",
        "      acc = torch.mean(correct_counts.type(torch.FloatTensor))\n",
        "      \n",
        "      # Compute total accuracy in the whole batch and add to train_acc\n",
        "      train_acc += acc.item() * inputs.size(0)\n",
        "    # Validation - No gradient tracking needed\n",
        "    with torch.no_grad():\n",
        "\n",
        "      # Set to evaluation mode\n",
        "      model.eval()\n",
        "\n",
        "      # Validation loop\n",
        "      for j, (inputs, labels) in enumerate(valid_data_loader):\n",
        "          inputs = inputs.to(device) # cuda or cpu\n",
        "          labels = labels.to(device)\n",
        "\n",
        "          # Forward pass - compute outputs on input data using the model\n",
        "          outputs = model(inputs)\n",
        "\n",
        "          # Compute loss\n",
        "          loss = loss_criterion(outputs, labels)\n",
        "\n",
        "          # Compute the total loss for the batch and add it to valid_loss\n",
        "          valid_loss += loss.item() * inputs.size(0)\n",
        "\n",
        "          # Calculate validation accuracy\n",
        "          ret, predictions = torch.max(outputs.data, 1)\n",
        "          correct_counts = predictions.eq(labels.data.view_as(predictions))\n",
        "\n",
        "          # Convert correct_counts to float and then compute the mean\n",
        "          acc = torch.mean(correct_counts.type(torch.FloatTensor))\n",
        "\n",
        "          # Compute total accuracy in the whole batch and add to valid_acc\n",
        "          valid_acc += acc.item() * inputs.size(0)\n",
        "          \n",
        "          print(\"Validation Batch number: {:03d}, Validation: Loss: {:.4f}, Accuracy: {:.4f}\".format(j, loss.item(), acc.item()))\n",
        "      \n",
        "    # Find average training loss and training accuracy\n",
        "    avg_train_loss = train_loss/train_data_size \n",
        "    avg_train_acc = train_acc/train_data_size\n",
        "\n",
        "    # Find average training loss and training accuracy\n",
        "    avg_valid_loss = valid_loss/valid_data_size \n",
        "    avg_valid_acc = valid_acc/valid_data_size\n",
        "\n",
        "    history.append([avg_train_loss, avg_valid_loss, avg_train_acc, avg_valid_acc])\n",
        "            \n",
        "    epoch_end = time.time()\n",
        "\n",
        "    print(\"Epoch : {:03d}, Training: Loss: {:.4f}, Accuracy: {:.4f}%, \\n\\t\\tValidation : Loss : {:.4f}, Accuracy: {:.4f}%, Time: {:.4f}s\".format(epoch+1, avg_train_loss, avg_train_acc*100, avg_valid_loss, avg_valid_acc*100, epoch_end-epoch_start))\n",
        "    \n",
        "    # Save if the model has best accuracy till now\n",
        "    if best_acc < avg_valid_acc:\n",
        "      best_acc = avg_valid_acc\n",
        "      best_model = model\n",
        "    \n",
        "    #torch.save(model, dataset+'_model_'+str(epoch)+'.pt')\n",
        "          \n",
        "  return best_acc, best_model, history      "
      ],
      "execution_count": 15,
      "outputs": []
    },
    {
      "cell_type": "markdown",
      "metadata": {
        "id": "HvNUhiocDWYg"
      },
      "source": [
        "Train and validation into graph\r\n"
      ]
    },
    {
      "cell_type": "code",
      "metadata": {
        "colab": {
          "base_uri": "https://localhost:8080/"
        },
        "id": "qj93sPbkDWYg",
        "outputId": "6f85e68e-f006-4731-c415-dd4d2fe052ff"
      },
      "source": [
        "num_epochs = 20\n",
        "acc, trained_model, history = train_and_validate(AlexNet, loss_func, optimizer, num_epochs)\n",
        "\n",
        "#torch.save(history, dataset+'_history.pt')"
      ],
      "execution_count": 16,
      "outputs": [
        {
          "output_type": "stream",
          "text": [
            "Epoch: 1/20\n",
            "Validation Batch number: 000, Validation: Loss: 0.2843, Accuracy: 0.9062\n",
            "Validation Batch number: 001, Validation: Loss: 0.3080, Accuracy: 0.9062\n",
            "Validation Batch number: 002, Validation: Loss: 0.3507, Accuracy: 0.9375\n",
            "Validation Batch number: 003, Validation: Loss: 0.2630, Accuracy: 0.9688\n",
            "Validation Batch number: 004, Validation: Loss: 0.2701, Accuracy: 0.9062\n",
            "Validation Batch number: 005, Validation: Loss: 0.4484, Accuracy: 0.8438\n",
            "Validation Batch number: 006, Validation: Loss: 0.2982, Accuracy: 0.8438\n",
            "Validation Batch number: 007, Validation: Loss: 0.3217, Accuracy: 0.9062\n",
            "Validation Batch number: 008, Validation: Loss: 0.3266, Accuracy: 0.8125\n",
            "Validation Batch number: 009, Validation: Loss: 0.2719, Accuracy: 0.9062\n",
            "Validation Batch number: 010, Validation: Loss: 0.3468, Accuracy: 0.9062\n",
            "Validation Batch number: 011, Validation: Loss: 0.1559, Accuracy: 0.9375\n",
            "Validation Batch number: 012, Validation: Loss: 0.1277, Accuracy: 0.9375\n",
            "Validation Batch number: 013, Validation: Loss: 0.2311, Accuracy: 0.9062\n",
            "Validation Batch number: 014, Validation: Loss: 0.2952, Accuracy: 0.8750\n",
            "Validation Batch number: 015, Validation: Loss: 0.1647, Accuracy: 0.9375\n",
            "Validation Batch number: 016, Validation: Loss: 0.3299, Accuracy: 0.8438\n",
            "Validation Batch number: 017, Validation: Loss: 0.3021, Accuracy: 0.9062\n",
            "Validation Batch number: 018, Validation: Loss: 0.3529, Accuracy: 0.8125\n",
            "Validation Batch number: 019, Validation: Loss: 0.2138, Accuracy: 0.9688\n",
            "Validation Batch number: 020, Validation: Loss: 0.2365, Accuracy: 0.9062\n",
            "Validation Batch number: 021, Validation: Loss: 0.3594, Accuracy: 0.9062\n",
            "Validation Batch number: 022, Validation: Loss: 0.2830, Accuracy: 0.8750\n",
            "Validation Batch number: 023, Validation: Loss: 0.3094, Accuracy: 0.8750\n",
            "Validation Batch number: 024, Validation: Loss: 0.4155, Accuracy: 0.8125\n",
            "Validation Batch number: 025, Validation: Loss: 0.3746, Accuracy: 0.8438\n",
            "Validation Batch number: 026, Validation: Loss: 0.1763, Accuracy: 0.9375\n",
            "Validation Batch number: 027, Validation: Loss: 0.3836, Accuracy: 0.8438\n",
            "Validation Batch number: 028, Validation: Loss: 0.5999, Accuracy: 0.7812\n",
            "Validation Batch number: 029, Validation: Loss: 0.4442, Accuracy: 0.8750\n",
            "Validation Batch number: 030, Validation: Loss: 0.2389, Accuracy: 0.9062\n",
            "Validation Batch number: 031, Validation: Loss: 0.3613, Accuracy: 0.8750\n",
            "Validation Batch number: 032, Validation: Loss: 0.3727, Accuracy: 0.8438\n",
            "Validation Batch number: 033, Validation: Loss: 0.2584, Accuracy: 0.8750\n",
            "Validation Batch number: 034, Validation: Loss: 0.2822, Accuracy: 0.8438\n",
            "Validation Batch number: 035, Validation: Loss: 0.4244, Accuracy: 0.8125\n",
            "Validation Batch number: 036, Validation: Loss: 0.2619, Accuracy: 0.9375\n",
            "Validation Batch number: 037, Validation: Loss: 0.4884, Accuracy: 0.7500\n",
            "Validation Batch number: 038, Validation: Loss: 0.3194, Accuracy: 0.8438\n",
            "Validation Batch number: 039, Validation: Loss: 0.3695, Accuracy: 0.7812\n",
            "Validation Batch number: 040, Validation: Loss: 0.4548, Accuracy: 0.8125\n",
            "Validation Batch number: 041, Validation: Loss: 0.1235, Accuracy: 1.0000\n",
            "Epoch : 001, Training: Loss: 0.4353, Accuracy: 84.3108%, \n",
            "\t\tValidation : Loss : 0.3163, Accuracy: 87.7444%, Time: 7.8745s\n",
            "Epoch: 2/20\n",
            "Validation Batch number: 000, Validation: Loss: 0.2823, Accuracy: 0.9062\n",
            "Validation Batch number: 001, Validation: Loss: 0.3534, Accuracy: 0.8125\n",
            "Validation Batch number: 002, Validation: Loss: 0.3603, Accuracy: 0.8438\n",
            "Validation Batch number: 003, Validation: Loss: 0.1766, Accuracy: 0.9375\n",
            "Validation Batch number: 004, Validation: Loss: 0.2386, Accuracy: 0.9062\n",
            "Validation Batch number: 005, Validation: Loss: 0.4448, Accuracy: 0.8750\n",
            "Validation Batch number: 006, Validation: Loss: 0.3501, Accuracy: 0.8438\n",
            "Validation Batch number: 007, Validation: Loss: 0.2933, Accuracy: 0.8750\n",
            "Validation Batch number: 008, Validation: Loss: 0.4121, Accuracy: 0.7500\n",
            "Validation Batch number: 009, Validation: Loss: 0.2186, Accuracy: 0.9375\n",
            "Validation Batch number: 010, Validation: Loss: 0.3443, Accuracy: 0.8125\n",
            "Validation Batch number: 011, Validation: Loss: 0.1635, Accuracy: 0.9062\n",
            "Validation Batch number: 012, Validation: Loss: 0.0861, Accuracy: 0.9688\n",
            "Validation Batch number: 013, Validation: Loss: 0.2926, Accuracy: 0.9062\n",
            "Validation Batch number: 014, Validation: Loss: 0.2822, Accuracy: 0.9062\n",
            "Validation Batch number: 015, Validation: Loss: 0.1507, Accuracy: 0.9688\n",
            "Validation Batch number: 016, Validation: Loss: 0.3448, Accuracy: 0.8750\n",
            "Validation Batch number: 017, Validation: Loss: 0.2223, Accuracy: 0.8750\n",
            "Validation Batch number: 018, Validation: Loss: 0.2715, Accuracy: 0.8125\n",
            "Validation Batch number: 019, Validation: Loss: 0.2385, Accuracy: 0.8750\n",
            "Validation Batch number: 020, Validation: Loss: 0.1786, Accuracy: 0.9062\n",
            "Validation Batch number: 021, Validation: Loss: 0.2984, Accuracy: 0.9062\n",
            "Validation Batch number: 022, Validation: Loss: 0.2538, Accuracy: 0.9062\n",
            "Validation Batch number: 023, Validation: Loss: 0.2691, Accuracy: 0.9062\n",
            "Validation Batch number: 024, Validation: Loss: 0.4739, Accuracy: 0.7500\n",
            "Validation Batch number: 025, Validation: Loss: 0.3300, Accuracy: 0.7812\n",
            "Validation Batch number: 026, Validation: Loss: 0.1786, Accuracy: 0.9375\n",
            "Validation Batch number: 027, Validation: Loss: 0.4914, Accuracy: 0.8438\n",
            "Validation Batch number: 028, Validation: Loss: 0.6540, Accuracy: 0.8125\n",
            "Validation Batch number: 029, Validation: Loss: 0.4609, Accuracy: 0.7812\n",
            "Validation Batch number: 030, Validation: Loss: 0.2346, Accuracy: 0.9062\n",
            "Validation Batch number: 031, Validation: Loss: 0.2667, Accuracy: 0.8750\n",
            "Validation Batch number: 032, Validation: Loss: 0.4098, Accuracy: 0.8125\n",
            "Validation Batch number: 033, Validation: Loss: 0.3237, Accuracy: 0.8125\n",
            "Validation Batch number: 034, Validation: Loss: 0.3235, Accuracy: 0.8125\n",
            "Validation Batch number: 035, Validation: Loss: 0.4062, Accuracy: 0.8125\n",
            "Validation Batch number: 036, Validation: Loss: 0.1248, Accuracy: 1.0000\n",
            "Validation Batch number: 037, Validation: Loss: 0.6357, Accuracy: 0.7500\n",
            "Validation Batch number: 038, Validation: Loss: 0.3706, Accuracy: 0.8125\n",
            "Validation Batch number: 039, Validation: Loss: 0.4976, Accuracy: 0.7812\n",
            "Validation Batch number: 040, Validation: Loss: 0.3232, Accuracy: 0.8438\n",
            "Validation Batch number: 041, Validation: Loss: 0.0827, Accuracy: 1.0000\n",
            "Epoch : 002, Training: Loss: 0.3035, Accuracy: 87.8697%, \n",
            "\t\tValidation : Loss : 0.3147, Accuracy: 86.3910%, Time: 7.7576s\n",
            "Epoch: 3/20\n",
            "Validation Batch number: 000, Validation: Loss: 0.2307, Accuracy: 0.9062\n",
            "Validation Batch number: 001, Validation: Loss: 0.1580, Accuracy: 0.9688\n",
            "Validation Batch number: 002, Validation: Loss: 0.2956, Accuracy: 0.9062\n",
            "Validation Batch number: 003, Validation: Loss: 0.2101, Accuracy: 0.9062\n",
            "Validation Batch number: 004, Validation: Loss: 0.2043, Accuracy: 0.9688\n",
            "Validation Batch number: 005, Validation: Loss: 0.3948, Accuracy: 0.8750\n",
            "Validation Batch number: 006, Validation: Loss: 0.3541, Accuracy: 0.7812\n",
            "Validation Batch number: 007, Validation: Loss: 0.2392, Accuracy: 0.9062\n",
            "Validation Batch number: 008, Validation: Loss: 0.2427, Accuracy: 0.8438\n",
            "Validation Batch number: 009, Validation: Loss: 0.2302, Accuracy: 0.8750\n",
            "Validation Batch number: 010, Validation: Loss: 0.2807, Accuracy: 0.9062\n",
            "Validation Batch number: 011, Validation: Loss: 0.2225, Accuracy: 0.9375\n",
            "Validation Batch number: 012, Validation: Loss: 0.1037, Accuracy: 0.9375\n",
            "Validation Batch number: 013, Validation: Loss: 0.2116, Accuracy: 0.8750\n",
            "Validation Batch number: 014, Validation: Loss: 0.2427, Accuracy: 0.9062\n",
            "Validation Batch number: 015, Validation: Loss: 0.1736, Accuracy: 0.9062\n",
            "Validation Batch number: 016, Validation: Loss: 0.3225, Accuracy: 0.8438\n",
            "Validation Batch number: 017, Validation: Loss: 0.2842, Accuracy: 0.9375\n",
            "Validation Batch number: 018, Validation: Loss: 0.3014, Accuracy: 0.8750\n",
            "Validation Batch number: 019, Validation: Loss: 0.1113, Accuracy: 1.0000\n",
            "Validation Batch number: 020, Validation: Loss: 0.1324, Accuracy: 0.9062\n",
            "Validation Batch number: 021, Validation: Loss: 0.3499, Accuracy: 0.9062\n",
            "Validation Batch number: 022, Validation: Loss: 0.2561, Accuracy: 0.8750\n",
            "Validation Batch number: 023, Validation: Loss: 0.2723, Accuracy: 0.9062\n",
            "Validation Batch number: 024, Validation: Loss: 0.3369, Accuracy: 0.8125\n",
            "Validation Batch number: 025, Validation: Loss: 0.2554, Accuracy: 0.8438\n",
            "Validation Batch number: 026, Validation: Loss: 0.1178, Accuracy: 0.9688\n",
            "Validation Batch number: 027, Validation: Loss: 0.3463, Accuracy: 0.8125\n",
            "Validation Batch number: 028, Validation: Loss: 0.5831, Accuracy: 0.8438\n",
            "Validation Batch number: 029, Validation: Loss: 0.3821, Accuracy: 0.8750\n",
            "Validation Batch number: 030, Validation: Loss: 0.1779, Accuracy: 0.9375\n",
            "Validation Batch number: 031, Validation: Loss: 0.3028, Accuracy: 0.9062\n",
            "Validation Batch number: 032, Validation: Loss: 0.2673, Accuracy: 0.9375\n",
            "Validation Batch number: 033, Validation: Loss: 0.2213, Accuracy: 0.9062\n",
            "Validation Batch number: 034, Validation: Loss: 0.2508, Accuracy: 0.8750\n",
            "Validation Batch number: 035, Validation: Loss: 0.3289, Accuracy: 0.8438\n",
            "Validation Batch number: 036, Validation: Loss: 0.2277, Accuracy: 0.9062\n",
            "Validation Batch number: 037, Validation: Loss: 0.4089, Accuracy: 0.8438\n",
            "Validation Batch number: 038, Validation: Loss: 0.2786, Accuracy: 0.8750\n",
            "Validation Batch number: 039, Validation: Loss: 0.3614, Accuracy: 0.8438\n",
            "Validation Batch number: 040, Validation: Loss: 0.3292, Accuracy: 0.8750\n",
            "Validation Batch number: 041, Validation: Loss: 0.0841, Accuracy: 1.0000\n",
            "Epoch : 003, Training: Loss: 0.2727, Accuracy: 89.0977%, \n",
            "\t\tValidation : Loss : 0.2658, Accuracy: 89.3233%, Time: 7.6932s\n",
            "Epoch: 4/20\n",
            "Validation Batch number: 000, Validation: Loss: 0.2130, Accuracy: 0.9375\n",
            "Validation Batch number: 001, Validation: Loss: 0.1849, Accuracy: 1.0000\n",
            "Validation Batch number: 002, Validation: Loss: 0.3886, Accuracy: 0.7812\n",
            "Validation Batch number: 003, Validation: Loss: 0.3728, Accuracy: 0.8750\n",
            "Validation Batch number: 004, Validation: Loss: 0.2293, Accuracy: 0.8750\n",
            "Validation Batch number: 005, Validation: Loss: 0.4655, Accuracy: 0.8750\n",
            "Validation Batch number: 006, Validation: Loss: 0.3358, Accuracy: 0.8125\n",
            "Validation Batch number: 007, Validation: Loss: 0.2594, Accuracy: 0.9062\n",
            "Validation Batch number: 008, Validation: Loss: 0.1941, Accuracy: 0.9375\n",
            "Validation Batch number: 009, Validation: Loss: 0.1960, Accuracy: 1.0000\n",
            "Validation Batch number: 010, Validation: Loss: 0.2302, Accuracy: 0.9375\n",
            "Validation Batch number: 011, Validation: Loss: 0.2109, Accuracy: 0.9375\n",
            "Validation Batch number: 012, Validation: Loss: 0.1399, Accuracy: 0.9688\n",
            "Validation Batch number: 013, Validation: Loss: 0.2402, Accuracy: 0.9062\n",
            "Validation Batch number: 014, Validation: Loss: 0.2746, Accuracy: 0.8750\n",
            "Validation Batch number: 015, Validation: Loss: 0.2319, Accuracy: 0.9062\n",
            "Validation Batch number: 016, Validation: Loss: 0.3234, Accuracy: 0.7812\n",
            "Validation Batch number: 017, Validation: Loss: 0.3316, Accuracy: 0.9375\n",
            "Validation Batch number: 018, Validation: Loss: 0.3479, Accuracy: 0.8750\n",
            "Validation Batch number: 019, Validation: Loss: 0.1339, Accuracy: 1.0000\n",
            "Validation Batch number: 020, Validation: Loss: 0.1558, Accuracy: 0.9375\n",
            "Validation Batch number: 021, Validation: Loss: 0.3633, Accuracy: 0.9062\n",
            "Validation Batch number: 022, Validation: Loss: 0.3074, Accuracy: 0.8438\n",
            "Validation Batch number: 023, Validation: Loss: 0.2498, Accuracy: 0.8750\n",
            "Validation Batch number: 024, Validation: Loss: 0.3117, Accuracy: 0.8438\n",
            "Validation Batch number: 025, Validation: Loss: 0.2873, Accuracy: 0.9062\n",
            "Validation Batch number: 026, Validation: Loss: 0.1565, Accuracy: 1.0000\n",
            "Validation Batch number: 027, Validation: Loss: 0.3888, Accuracy: 0.8438\n",
            "Validation Batch number: 028, Validation: Loss: 0.4673, Accuracy: 0.8125\n",
            "Validation Batch number: 029, Validation: Loss: 0.2626, Accuracy: 0.9375\n",
            "Validation Batch number: 030, Validation: Loss: 0.1854, Accuracy: 0.9375\n",
            "Validation Batch number: 031, Validation: Loss: 0.3715, Accuracy: 0.8438\n",
            "Validation Batch number: 032, Validation: Loss: 0.2651, Accuracy: 0.8438\n",
            "Validation Batch number: 033, Validation: Loss: 0.1843, Accuracy: 0.9375\n",
            "Validation Batch number: 034, Validation: Loss: 0.3423, Accuracy: 0.8750\n",
            "Validation Batch number: 035, Validation: Loss: 0.3131, Accuracy: 0.8438\n",
            "Validation Batch number: 036, Validation: Loss: 0.2921, Accuracy: 0.8438\n",
            "Validation Batch number: 037, Validation: Loss: 0.3180, Accuracy: 0.8438\n",
            "Validation Batch number: 038, Validation: Loss: 0.2839, Accuracy: 0.8750\n",
            "Validation Batch number: 039, Validation: Loss: 0.2555, Accuracy: 0.8750\n",
            "Validation Batch number: 040, Validation: Loss: 0.4538, Accuracy: 0.8125\n",
            "Validation Batch number: 041, Validation: Loss: 0.1313, Accuracy: 1.0000\n",
            "Epoch : 004, Training: Loss: 0.2797, Accuracy: 89.0226%, \n",
            "\t\tValidation : Loss : 0.2789, Accuracy: 89.3233%, Time: 7.6901s\n",
            "Epoch: 5/20\n",
            "Validation Batch number: 000, Validation: Loss: 0.3535, Accuracy: 0.8750\n",
            "Validation Batch number: 001, Validation: Loss: 0.2875, Accuracy: 0.9375\n",
            "Validation Batch number: 002, Validation: Loss: 0.6385, Accuracy: 0.6875\n",
            "Validation Batch number: 003, Validation: Loss: 0.3588, Accuracy: 0.8125\n",
            "Validation Batch number: 004, Validation: Loss: 0.5477, Accuracy: 0.6875\n",
            "Validation Batch number: 005, Validation: Loss: 0.4773, Accuracy: 0.8438\n",
            "Validation Batch number: 006, Validation: Loss: 0.5646, Accuracy: 0.7188\n",
            "Validation Batch number: 007, Validation: Loss: 0.3716, Accuracy: 0.8125\n",
            "Validation Batch number: 008, Validation: Loss: 0.3032, Accuracy: 0.9062\n",
            "Validation Batch number: 009, Validation: Loss: 0.2677, Accuracy: 0.9375\n",
            "Validation Batch number: 010, Validation: Loss: 0.3172, Accuracy: 0.8438\n",
            "Validation Batch number: 011, Validation: Loss: 0.2772, Accuracy: 0.8750\n",
            "Validation Batch number: 012, Validation: Loss: 0.2320, Accuracy: 0.9062\n",
            "Validation Batch number: 013, Validation: Loss: 0.3320, Accuracy: 0.8438\n",
            "Validation Batch number: 014, Validation: Loss: 0.3408, Accuracy: 0.8438\n",
            "Validation Batch number: 015, Validation: Loss: 0.3482, Accuracy: 0.8438\n",
            "Validation Batch number: 016, Validation: Loss: 0.4349, Accuracy: 0.7500\n",
            "Validation Batch number: 017, Validation: Loss: 0.4852, Accuracy: 0.9062\n",
            "Validation Batch number: 018, Validation: Loss: 0.6045, Accuracy: 0.7188\n",
            "Validation Batch number: 019, Validation: Loss: 0.1833, Accuracy: 0.9688\n",
            "Validation Batch number: 020, Validation: Loss: 0.2942, Accuracy: 0.8438\n",
            "Validation Batch number: 021, Validation: Loss: 0.4856, Accuracy: 0.7812\n",
            "Validation Batch number: 022, Validation: Loss: 0.4840, Accuracy: 0.8125\n",
            "Validation Batch number: 023, Validation: Loss: 0.3978, Accuracy: 0.7812\n",
            "Validation Batch number: 024, Validation: Loss: 0.3924, Accuracy: 0.8125\n",
            "Validation Batch number: 025, Validation: Loss: 0.4308, Accuracy: 0.8125\n",
            "Validation Batch number: 026, Validation: Loss: 0.2284, Accuracy: 0.9062\n",
            "Validation Batch number: 027, Validation: Loss: 0.6823, Accuracy: 0.6562\n",
            "Validation Batch number: 028, Validation: Loss: 0.4736, Accuracy: 0.8438\n",
            "Validation Batch number: 029, Validation: Loss: 0.2409, Accuracy: 0.8750\n",
            "Validation Batch number: 030, Validation: Loss: 0.2500, Accuracy: 0.8125\n",
            "Validation Batch number: 031, Validation: Loss: 0.4959, Accuracy: 0.7812\n",
            "Validation Batch number: 032, Validation: Loss: 0.3244, Accuracy: 0.8438\n",
            "Validation Batch number: 033, Validation: Loss: 0.3622, Accuracy: 0.8438\n",
            "Validation Batch number: 034, Validation: Loss: 0.2755, Accuracy: 0.8750\n",
            "Validation Batch number: 035, Validation: Loss: 0.4019, Accuracy: 0.8125\n",
            "Validation Batch number: 036, Validation: Loss: 0.4923, Accuracy: 0.8125\n",
            "Validation Batch number: 037, Validation: Loss: 0.3083, Accuracy: 0.8750\n",
            "Validation Batch number: 038, Validation: Loss: 0.4910, Accuracy: 0.7812\n",
            "Validation Batch number: 039, Validation: Loss: 0.4544, Accuracy: 0.7500\n",
            "Validation Batch number: 040, Validation: Loss: 0.5419, Accuracy: 0.8125\n",
            "Validation Batch number: 041, Validation: Loss: 0.2700, Accuracy: 0.8889\n",
            "Epoch : 005, Training: Loss: 0.2708, Accuracy: 89.5990%, \n",
            "\t\tValidation : Loss : 0.3942, Accuracy: 82.6316%, Time: 7.7925s\n",
            "Epoch: 6/20\n",
            "Validation Batch number: 000, Validation: Loss: 0.1516, Accuracy: 0.9375\n",
            "Validation Batch number: 001, Validation: Loss: 0.2902, Accuracy: 0.8438\n",
            "Validation Batch number: 002, Validation: Loss: 0.3569, Accuracy: 0.8750\n",
            "Validation Batch number: 003, Validation: Loss: 0.1539, Accuracy: 0.9375\n",
            "Validation Batch number: 004, Validation: Loss: 0.2090, Accuracy: 0.9375\n",
            "Validation Batch number: 005, Validation: Loss: 0.4642, Accuracy: 0.9062\n",
            "Validation Batch number: 006, Validation: Loss: 0.3887, Accuracy: 0.8125\n",
            "Validation Batch number: 007, Validation: Loss: 0.2964, Accuracy: 0.8750\n",
            "Validation Batch number: 008, Validation: Loss: 0.3652, Accuracy: 0.7812\n",
            "Validation Batch number: 009, Validation: Loss: 0.1669, Accuracy: 0.9375\n",
            "Validation Batch number: 010, Validation: Loss: 0.2851, Accuracy: 0.8750\n",
            "Validation Batch number: 011, Validation: Loss: 0.2657, Accuracy: 0.9062\n",
            "Validation Batch number: 012, Validation: Loss: 0.0840, Accuracy: 0.9688\n",
            "Validation Batch number: 013, Validation: Loss: 0.2917, Accuracy: 0.8750\n",
            "Validation Batch number: 014, Validation: Loss: 0.2120, Accuracy: 0.9688\n",
            "Validation Batch number: 015, Validation: Loss: 0.1799, Accuracy: 0.9375\n",
            "Validation Batch number: 016, Validation: Loss: 0.4018, Accuracy: 0.8750\n",
            "Validation Batch number: 017, Validation: Loss: 0.2595, Accuracy: 0.9062\n",
            "Validation Batch number: 018, Validation: Loss: 0.2541, Accuracy: 0.8750\n",
            "Validation Batch number: 019, Validation: Loss: 0.1416, Accuracy: 0.9375\n",
            "Validation Batch number: 020, Validation: Loss: 0.1433, Accuracy: 0.9688\n",
            "Validation Batch number: 021, Validation: Loss: 0.3235, Accuracy: 0.9062\n",
            "Validation Batch number: 022, Validation: Loss: 0.2008, Accuracy: 0.9375\n",
            "Validation Batch number: 023, Validation: Loss: 0.2662, Accuracy: 0.9375\n",
            "Validation Batch number: 024, Validation: Loss: 0.2895, Accuracy: 0.9062\n",
            "Validation Batch number: 025, Validation: Loss: 0.1921, Accuracy: 0.8750\n",
            "Validation Batch number: 026, Validation: Loss: 0.1539, Accuracy: 0.9375\n",
            "Validation Batch number: 027, Validation: Loss: 0.5239, Accuracy: 0.8125\n",
            "Validation Batch number: 028, Validation: Loss: 0.6456, Accuracy: 0.8438\n",
            "Validation Batch number: 029, Validation: Loss: 0.3837, Accuracy: 0.8438\n",
            "Validation Batch number: 030, Validation: Loss: 0.2274, Accuracy: 0.9062\n",
            "Validation Batch number: 031, Validation: Loss: 0.2363, Accuracy: 0.8750\n",
            "Validation Batch number: 032, Validation: Loss: 0.3446, Accuracy: 0.8438\n",
            "Validation Batch number: 033, Validation: Loss: 0.3138, Accuracy: 0.8750\n",
            "Validation Batch number: 034, Validation: Loss: 0.2255, Accuracy: 0.9062\n",
            "Validation Batch number: 035, Validation: Loss: 0.3928, Accuracy: 0.8750\n",
            "Validation Batch number: 036, Validation: Loss: 0.1391, Accuracy: 0.9688\n",
            "Validation Batch number: 037, Validation: Loss: 0.5719, Accuracy: 0.7812\n",
            "Validation Batch number: 038, Validation: Loss: 0.3251, Accuracy: 0.8438\n",
            "Validation Batch number: 039, Validation: Loss: 0.5121, Accuracy: 0.7500\n",
            "Validation Batch number: 040, Validation: Loss: 0.2457, Accuracy: 0.9062\n",
            "Validation Batch number: 041, Validation: Loss: 0.0751, Accuracy: 1.0000\n",
            "Epoch : 006, Training: Loss: 0.2630, Accuracy: 89.7995%, \n",
            "\t\tValidation : Loss : 0.2867, Accuracy: 89.0977%, Time: 7.8803s\n",
            "Epoch: 7/20\n",
            "Validation Batch number: 000, Validation: Loss: 0.1758, Accuracy: 0.9375\n",
            "Validation Batch number: 001, Validation: Loss: 0.2784, Accuracy: 0.8125\n",
            "Validation Batch number: 002, Validation: Loss: 0.3592, Accuracy: 0.9062\n",
            "Validation Batch number: 003, Validation: Loss: 0.1693, Accuracy: 0.9375\n",
            "Validation Batch number: 004, Validation: Loss: 0.2032, Accuracy: 0.9375\n",
            "Validation Batch number: 005, Validation: Loss: 0.5453, Accuracy: 0.8750\n",
            "Validation Batch number: 006, Validation: Loss: 0.4248, Accuracy: 0.7812\n",
            "Validation Batch number: 007, Validation: Loss: 0.2988, Accuracy: 0.8750\n",
            "Validation Batch number: 008, Validation: Loss: 0.3769, Accuracy: 0.8438\n",
            "Validation Batch number: 009, Validation: Loss: 0.1920, Accuracy: 0.9062\n",
            "Validation Batch number: 010, Validation: Loss: 0.3007, Accuracy: 0.8438\n",
            "Validation Batch number: 011, Validation: Loss: 0.1940, Accuracy: 0.9062\n",
            "Validation Batch number: 012, Validation: Loss: 0.0835, Accuracy: 0.9688\n",
            "Validation Batch number: 013, Validation: Loss: 0.3030, Accuracy: 0.9062\n",
            "Validation Batch number: 014, Validation: Loss: 0.2544, Accuracy: 0.9062\n",
            "Validation Batch number: 015, Validation: Loss: 0.1574, Accuracy: 0.9375\n",
            "Validation Batch number: 016, Validation: Loss: 0.4056, Accuracy: 0.8750\n",
            "Validation Batch number: 017, Validation: Loss: 0.2233, Accuracy: 0.9375\n",
            "Validation Batch number: 018, Validation: Loss: 0.2915, Accuracy: 0.8438\n",
            "Validation Batch number: 019, Validation: Loss: 0.1712, Accuracy: 0.9062\n",
            "Validation Batch number: 020, Validation: Loss: 0.1703, Accuracy: 0.9062\n",
            "Validation Batch number: 021, Validation: Loss: 0.3344, Accuracy: 0.9062\n",
            "Validation Batch number: 022, Validation: Loss: 0.2262, Accuracy: 0.9062\n",
            "Validation Batch number: 023, Validation: Loss: 0.2724, Accuracy: 0.9375\n",
            "Validation Batch number: 024, Validation: Loss: 0.4906, Accuracy: 0.7812\n",
            "Validation Batch number: 025, Validation: Loss: 0.2209, Accuracy: 0.8750\n",
            "Validation Batch number: 026, Validation: Loss: 0.0925, Accuracy: 0.9688\n",
            "Validation Batch number: 027, Validation: Loss: 0.4738, Accuracy: 0.8438\n",
            "Validation Batch number: 028, Validation: Loss: 0.7133, Accuracy: 0.8125\n",
            "Validation Batch number: 029, Validation: Loss: 0.4223, Accuracy: 0.8438\n",
            "Validation Batch number: 030, Validation: Loss: 0.2552, Accuracy: 0.9062\n",
            "Validation Batch number: 031, Validation: Loss: 0.2468, Accuracy: 0.8750\n",
            "Validation Batch number: 032, Validation: Loss: 0.4292, Accuracy: 0.8125\n",
            "Validation Batch number: 033, Validation: Loss: 0.3361, Accuracy: 0.8750\n",
            "Validation Batch number: 034, Validation: Loss: 0.2544, Accuracy: 0.8750\n",
            "Validation Batch number: 035, Validation: Loss: 0.4302, Accuracy: 0.8750\n",
            "Validation Batch number: 036, Validation: Loss: 0.1210, Accuracy: 0.9688\n",
            "Validation Batch number: 037, Validation: Loss: 0.6188, Accuracy: 0.7812\n",
            "Validation Batch number: 038, Validation: Loss: 0.3372, Accuracy: 0.8438\n",
            "Validation Batch number: 039, Validation: Loss: 0.5678, Accuracy: 0.7812\n",
            "Validation Batch number: 040, Validation: Loss: 0.2550, Accuracy: 0.8750\n",
            "Validation Batch number: 041, Validation: Loss: 0.0461, Accuracy: 1.0000\n",
            "Epoch : 007, Training: Loss: 0.2487, Accuracy: 89.9248%, \n",
            "\t\tValidation : Loss : 0.3056, Accuracy: 88.1955%, Time: 7.7942s\n",
            "Epoch: 8/20\n",
            "Validation Batch number: 000, Validation: Loss: 0.1969, Accuracy: 0.9375\n",
            "Validation Batch number: 001, Validation: Loss: 0.3346, Accuracy: 0.8125\n",
            "Validation Batch number: 002, Validation: Loss: 0.3307, Accuracy: 0.8438\n",
            "Validation Batch number: 003, Validation: Loss: 0.2071, Accuracy: 0.9375\n",
            "Validation Batch number: 004, Validation: Loss: 0.1770, Accuracy: 0.9375\n",
            "Validation Batch number: 005, Validation: Loss: 0.4500, Accuracy: 0.9062\n",
            "Validation Batch number: 006, Validation: Loss: 0.3906, Accuracy: 0.8438\n",
            "Validation Batch number: 007, Validation: Loss: 0.2591, Accuracy: 0.8750\n",
            "Validation Batch number: 008, Validation: Loss: 0.3670, Accuracy: 0.7812\n",
            "Validation Batch number: 009, Validation: Loss: 0.1793, Accuracy: 0.9062\n",
            "Validation Batch number: 010, Validation: Loss: 0.3000, Accuracy: 0.8438\n",
            "Validation Batch number: 011, Validation: Loss: 0.1963, Accuracy: 0.9062\n",
            "Validation Batch number: 012, Validation: Loss: 0.0700, Accuracy: 0.9688\n",
            "Validation Batch number: 013, Validation: Loss: 0.2754, Accuracy: 0.9062\n",
            "Validation Batch number: 014, Validation: Loss: 0.2374, Accuracy: 0.9375\n",
            "Validation Batch number: 015, Validation: Loss: 0.1513, Accuracy: 0.9375\n",
            "Validation Batch number: 016, Validation: Loss: 0.3737, Accuracy: 0.8750\n",
            "Validation Batch number: 017, Validation: Loss: 0.2124, Accuracy: 0.8750\n",
            "Validation Batch number: 018, Validation: Loss: 0.2580, Accuracy: 0.8438\n",
            "Validation Batch number: 019, Validation: Loss: 0.1414, Accuracy: 0.9062\n",
            "Validation Batch number: 020, Validation: Loss: 0.1523, Accuracy: 0.9375\n",
            "Validation Batch number: 021, Validation: Loss: 0.2894, Accuracy: 0.9062\n",
            "Validation Batch number: 022, Validation: Loss: 0.1948, Accuracy: 0.9375\n",
            "Validation Batch number: 023, Validation: Loss: 0.2640, Accuracy: 0.9062\n",
            "Validation Batch number: 024, Validation: Loss: 0.4667, Accuracy: 0.7812\n",
            "Validation Batch number: 025, Validation: Loss: 0.2271, Accuracy: 0.8438\n",
            "Validation Batch number: 026, Validation: Loss: 0.1984, Accuracy: 0.9375\n",
            "Validation Batch number: 027, Validation: Loss: 0.4832, Accuracy: 0.8438\n",
            "Validation Batch number: 028, Validation: Loss: 0.7055, Accuracy: 0.8438\n",
            "Validation Batch number: 029, Validation: Loss: 0.3938, Accuracy: 0.8750\n",
            "Validation Batch number: 030, Validation: Loss: 0.2055, Accuracy: 0.9375\n",
            "Validation Batch number: 031, Validation: Loss: 0.2220, Accuracy: 0.9062\n",
            "Validation Batch number: 032, Validation: Loss: 0.3356, Accuracy: 0.8750\n",
            "Validation Batch number: 033, Validation: Loss: 0.3158, Accuracy: 0.8750\n",
            "Validation Batch number: 034, Validation: Loss: 0.2506, Accuracy: 0.9062\n",
            "Validation Batch number: 035, Validation: Loss: 0.3903, Accuracy: 0.8750\n",
            "Validation Batch number: 036, Validation: Loss: 0.0942, Accuracy: 0.9688\n",
            "Validation Batch number: 037, Validation: Loss: 0.5774, Accuracy: 0.7812\n",
            "Validation Batch number: 038, Validation: Loss: 0.3187, Accuracy: 0.8438\n",
            "Validation Batch number: 039, Validation: Loss: 0.5283, Accuracy: 0.7812\n",
            "Validation Batch number: 040, Validation: Loss: 0.2812, Accuracy: 0.9062\n",
            "Validation Batch number: 041, Validation: Loss: 0.0495, Accuracy: 1.0000\n",
            "Epoch : 008, Training: Loss: 0.2520, Accuracy: 90.2757%, \n",
            "\t\tValidation : Loss : 0.2895, Accuracy: 88.5714%, Time: 7.8039s\n",
            "Epoch: 9/20\n",
            "Validation Batch number: 000, Validation: Loss: 0.1470, Accuracy: 0.9375\n",
            "Validation Batch number: 001, Validation: Loss: 0.2273, Accuracy: 0.8750\n",
            "Validation Batch number: 002, Validation: Loss: 0.2841, Accuracy: 0.9062\n",
            "Validation Batch number: 003, Validation: Loss: 0.1683, Accuracy: 0.9375\n",
            "Validation Batch number: 004, Validation: Loss: 0.1863, Accuracy: 0.9688\n",
            "Validation Batch number: 005, Validation: Loss: 0.4630, Accuracy: 0.9375\n",
            "Validation Batch number: 006, Validation: Loss: 0.3500, Accuracy: 0.8438\n",
            "Validation Batch number: 007, Validation: Loss: 0.2206, Accuracy: 0.9688\n",
            "Validation Batch number: 008, Validation: Loss: 0.2775, Accuracy: 0.8750\n",
            "Validation Batch number: 009, Validation: Loss: 0.1573, Accuracy: 0.9062\n",
            "Validation Batch number: 010, Validation: Loss: 0.2249, Accuracy: 0.9375\n",
            "Validation Batch number: 011, Validation: Loss: 0.2770, Accuracy: 0.9375\n",
            "Validation Batch number: 012, Validation: Loss: 0.0684, Accuracy: 0.9688\n",
            "Validation Batch number: 013, Validation: Loss: 0.2597, Accuracy: 0.9062\n",
            "Validation Batch number: 014, Validation: Loss: 0.2203, Accuracy: 0.9375\n",
            "Validation Batch number: 015, Validation: Loss: 0.1506, Accuracy: 0.9688\n",
            "Validation Batch number: 016, Validation: Loss: 0.3375, Accuracy: 0.8750\n",
            "Validation Batch number: 017, Validation: Loss: 0.2129, Accuracy: 0.9062\n",
            "Validation Batch number: 018, Validation: Loss: 0.2133, Accuracy: 0.8750\n",
            "Validation Batch number: 019, Validation: Loss: 0.1314, Accuracy: 0.9688\n",
            "Validation Batch number: 020, Validation: Loss: 0.0982, Accuracy: 0.9375\n",
            "Validation Batch number: 021, Validation: Loss: 0.2958, Accuracy: 0.9062\n",
            "Validation Batch number: 022, Validation: Loss: 0.2068, Accuracy: 0.9062\n",
            "Validation Batch number: 023, Validation: Loss: 0.2459, Accuracy: 0.9375\n",
            "Validation Batch number: 024, Validation: Loss: 0.3693, Accuracy: 0.8125\n",
            "Validation Batch number: 025, Validation: Loss: 0.1769, Accuracy: 0.8750\n",
            "Validation Batch number: 026, Validation: Loss: 0.0929, Accuracy: 0.9375\n",
            "Validation Batch number: 027, Validation: Loss: 0.4536, Accuracy: 0.8125\n",
            "Validation Batch number: 028, Validation: Loss: 0.6481, Accuracy: 0.8438\n",
            "Validation Batch number: 029, Validation: Loss: 0.4424, Accuracy: 0.8750\n",
            "Validation Batch number: 030, Validation: Loss: 0.1802, Accuracy: 0.9375\n",
            "Validation Batch number: 031, Validation: Loss: 0.2063, Accuracy: 0.9062\n",
            "Validation Batch number: 032, Validation: Loss: 0.3026, Accuracy: 0.8438\n",
            "Validation Batch number: 033, Validation: Loss: 0.2615, Accuracy: 0.9062\n",
            "Validation Batch number: 034, Validation: Loss: 0.2654, Accuracy: 0.9375\n",
            "Validation Batch number: 035, Validation: Loss: 0.3730, Accuracy: 0.8750\n",
            "Validation Batch number: 036, Validation: Loss: 0.1266, Accuracy: 0.9375\n",
            "Validation Batch number: 037, Validation: Loss: 0.4948, Accuracy: 0.7812\n",
            "Validation Batch number: 038, Validation: Loss: 0.2663, Accuracy: 0.9375\n",
            "Validation Batch number: 039, Validation: Loss: 0.4418, Accuracy: 0.7812\n",
            "Validation Batch number: 040, Validation: Loss: 0.3001, Accuracy: 0.9062\n",
            "Validation Batch number: 041, Validation: Loss: 0.0609, Accuracy: 1.0000\n",
            "Epoch : 009, Training: Loss: 0.2691, Accuracy: 89.1479%, \n",
            "\t\tValidation : Loss : 0.2613, Accuracy: 90.4511%, Time: 7.7083s\n",
            "Epoch: 10/20\n",
            "Validation Batch number: 000, Validation: Loss: 0.2209, Accuracy: 0.8750\n",
            "Validation Batch number: 001, Validation: Loss: 0.1715, Accuracy: 1.0000\n",
            "Validation Batch number: 002, Validation: Loss: 0.4417, Accuracy: 0.7500\n",
            "Validation Batch number: 003, Validation: Loss: 0.3416, Accuracy: 0.8750\n",
            "Validation Batch number: 004, Validation: Loss: 0.2793, Accuracy: 0.8438\n",
            "Validation Batch number: 005, Validation: Loss: 0.3776, Accuracy: 0.8750\n",
            "Validation Batch number: 006, Validation: Loss: 0.4747, Accuracy: 0.8125\n",
            "Validation Batch number: 007, Validation: Loss: 0.2411, Accuracy: 0.9062\n",
            "Validation Batch number: 008, Validation: Loss: 0.1838, Accuracy: 0.9375\n",
            "Validation Batch number: 009, Validation: Loss: 0.1810, Accuracy: 0.9688\n",
            "Validation Batch number: 010, Validation: Loss: 0.2233, Accuracy: 0.8750\n",
            "Validation Batch number: 011, Validation: Loss: 0.2596, Accuracy: 0.9062\n",
            "Validation Batch number: 012, Validation: Loss: 0.1399, Accuracy: 0.9688\n",
            "Validation Batch number: 013, Validation: Loss: 0.2342, Accuracy: 0.8750\n",
            "Validation Batch number: 014, Validation: Loss: 0.2784, Accuracy: 0.9062\n",
            "Validation Batch number: 015, Validation: Loss: 0.3070, Accuracy: 0.8438\n",
            "Validation Batch number: 016, Validation: Loss: 0.2410, Accuracy: 0.9062\n",
            "Validation Batch number: 017, Validation: Loss: 0.3523, Accuracy: 0.9375\n",
            "Validation Batch number: 018, Validation: Loss: 0.3950, Accuracy: 0.8125\n",
            "Validation Batch number: 019, Validation: Loss: 0.0900, Accuracy: 1.0000\n",
            "Validation Batch number: 020, Validation: Loss: 0.1933, Accuracy: 0.9062\n",
            "Validation Batch number: 021, Validation: Loss: 0.3610, Accuracy: 0.8750\n",
            "Validation Batch number: 022, Validation: Loss: 0.3658, Accuracy: 0.8438\n",
            "Validation Batch number: 023, Validation: Loss: 0.2545, Accuracy: 0.8750\n",
            "Validation Batch number: 024, Validation: Loss: 0.3540, Accuracy: 0.8125\n",
            "Validation Batch number: 025, Validation: Loss: 0.2510, Accuracy: 0.9062\n",
            "Validation Batch number: 026, Validation: Loss: 0.1840, Accuracy: 0.9062\n",
            "Validation Batch number: 027, Validation: Loss: 0.4379, Accuracy: 0.7812\n",
            "Validation Batch number: 028, Validation: Loss: 0.4867, Accuracy: 0.8750\n",
            "Validation Batch number: 029, Validation: Loss: 0.2764, Accuracy: 0.9375\n",
            "Validation Batch number: 030, Validation: Loss: 0.1260, Accuracy: 0.9688\n",
            "Validation Batch number: 031, Validation: Loss: 0.3334, Accuracy: 0.8438\n",
            "Validation Batch number: 032, Validation: Loss: 0.2315, Accuracy: 0.9062\n",
            "Validation Batch number: 033, Validation: Loss: 0.2540, Accuracy: 0.9062\n",
            "Validation Batch number: 034, Validation: Loss: 0.3008, Accuracy: 0.9062\n",
            "Validation Batch number: 035, Validation: Loss: 0.3366, Accuracy: 0.8125\n",
            "Validation Batch number: 036, Validation: Loss: 0.2985, Accuracy: 0.8750\n",
            "Validation Batch number: 037, Validation: Loss: 0.2424, Accuracy: 0.8750\n",
            "Validation Batch number: 038, Validation: Loss: 0.3470, Accuracy: 0.9062\n",
            "Validation Batch number: 039, Validation: Loss: 0.2959, Accuracy: 0.8125\n",
            "Validation Batch number: 040, Validation: Loss: 0.4878, Accuracy: 0.8125\n",
            "Validation Batch number: 041, Validation: Loss: 0.0884, Accuracy: 1.0000\n",
            "Epoch : 010, Training: Loss: 0.2488, Accuracy: 90.3509%, \n",
            "\t\tValidation : Loss : 0.2864, Accuracy: 88.4962%, Time: 7.7709s\n",
            "Epoch: 11/20\n",
            "Validation Batch number: 000, Validation: Loss: 0.1238, Accuracy: 0.9375\n",
            "Validation Batch number: 001, Validation: Loss: 0.1624, Accuracy: 0.9688\n",
            "Validation Batch number: 002, Validation: Loss: 0.2372, Accuracy: 0.9375\n",
            "Validation Batch number: 003, Validation: Loss: 0.1972, Accuracy: 0.9375\n",
            "Validation Batch number: 004, Validation: Loss: 0.1635, Accuracy: 0.9375\n",
            "Validation Batch number: 005, Validation: Loss: 0.3690, Accuracy: 0.8750\n",
            "Validation Batch number: 006, Validation: Loss: 0.2845, Accuracy: 0.8125\n",
            "Validation Batch number: 007, Validation: Loss: 0.1954, Accuracy: 0.9375\n",
            "Validation Batch number: 008, Validation: Loss: 0.1645, Accuracy: 0.9688\n",
            "Validation Batch number: 009, Validation: Loss: 0.1430, Accuracy: 0.9375\n",
            "Validation Batch number: 010, Validation: Loss: 0.1348, Accuracy: 0.9688\n",
            "Validation Batch number: 011, Validation: Loss: 0.2898, Accuracy: 0.9375\n",
            "Validation Batch number: 012, Validation: Loss: 0.1078, Accuracy: 0.9688\n",
            "Validation Batch number: 013, Validation: Loss: 0.1955, Accuracy: 0.9062\n",
            "Validation Batch number: 014, Validation: Loss: 0.1737, Accuracy: 0.9375\n",
            "Validation Batch number: 015, Validation: Loss: 0.1888, Accuracy: 0.9062\n",
            "Validation Batch number: 016, Validation: Loss: 0.2679, Accuracy: 0.8750\n",
            "Validation Batch number: 017, Validation: Loss: 0.3378, Accuracy: 0.9062\n",
            "Validation Batch number: 018, Validation: Loss: 0.1889, Accuracy: 0.9062\n",
            "Validation Batch number: 019, Validation: Loss: 0.0650, Accuracy: 1.0000\n",
            "Validation Batch number: 020, Validation: Loss: 0.0988, Accuracy: 1.0000\n",
            "Validation Batch number: 021, Validation: Loss: 0.3637, Accuracy: 0.9062\n",
            "Validation Batch number: 022, Validation: Loss: 0.2210, Accuracy: 0.8750\n",
            "Validation Batch number: 023, Validation: Loss: 0.1992, Accuracy: 0.9062\n",
            "Validation Batch number: 024, Validation: Loss: 0.1887, Accuracy: 0.8750\n",
            "Validation Batch number: 025, Validation: Loss: 0.2384, Accuracy: 0.8750\n",
            "Validation Batch number: 026, Validation: Loss: 0.1284, Accuracy: 0.9688\n",
            "Validation Batch number: 027, Validation: Loss: 0.3221, Accuracy: 0.8750\n",
            "Validation Batch number: 028, Validation: Loss: 0.5904, Accuracy: 0.8750\n",
            "Validation Batch number: 029, Validation: Loss: 0.4595, Accuracy: 0.8750\n",
            "Validation Batch number: 030, Validation: Loss: 0.1056, Accuracy: 0.9375\n",
            "Validation Batch number: 031, Validation: Loss: 0.2625, Accuracy: 0.8750\n",
            "Validation Batch number: 032, Validation: Loss: 0.1805, Accuracy: 0.9062\n",
            "Validation Batch number: 033, Validation: Loss: 0.1581, Accuracy: 0.9688\n",
            "Validation Batch number: 034, Validation: Loss: 0.2771, Accuracy: 0.8750\n",
            "Validation Batch number: 035, Validation: Loss: 0.2541, Accuracy: 0.8750\n",
            "Validation Batch number: 036, Validation: Loss: 0.1936, Accuracy: 0.9375\n",
            "Validation Batch number: 037, Validation: Loss: 0.3289, Accuracy: 0.8438\n",
            "Validation Batch number: 038, Validation: Loss: 0.2120, Accuracy: 0.9688\n",
            "Validation Batch number: 039, Validation: Loss: 0.2129, Accuracy: 0.8750\n",
            "Validation Batch number: 040, Validation: Loss: 0.3936, Accuracy: 0.8438\n",
            "Validation Batch number: 041, Validation: Loss: 0.0740, Accuracy: 1.0000\n",
            "Epoch : 011, Training: Loss: 0.2385, Accuracy: 90.6266%, \n",
            "\t\tValidation : Loss : 0.2267, Accuracy: 91.5789%, Time: 7.8177s\n",
            "Epoch: 12/20\n",
            "Validation Batch number: 000, Validation: Loss: 0.1749, Accuracy: 0.9062\n",
            "Validation Batch number: 001, Validation: Loss: 0.1329, Accuracy: 0.9688\n",
            "Validation Batch number: 002, Validation: Loss: 0.3009, Accuracy: 0.8438\n",
            "Validation Batch number: 003, Validation: Loss: 0.2071, Accuracy: 0.9062\n",
            "Validation Batch number: 004, Validation: Loss: 0.1658, Accuracy: 0.9688\n",
            "Validation Batch number: 005, Validation: Loss: 0.3613, Accuracy: 0.9062\n",
            "Validation Batch number: 006, Validation: Loss: 0.3567, Accuracy: 0.7812\n",
            "Validation Batch number: 007, Validation: Loss: 0.2015, Accuracy: 0.9375\n",
            "Validation Batch number: 008, Validation: Loss: 0.1857, Accuracy: 0.9062\n",
            "Validation Batch number: 009, Validation: Loss: 0.1287, Accuracy: 0.9688\n",
            "Validation Batch number: 010, Validation: Loss: 0.1835, Accuracy: 0.9375\n",
            "Validation Batch number: 011, Validation: Loss: 0.2166, Accuracy: 0.9375\n",
            "Validation Batch number: 012, Validation: Loss: 0.0865, Accuracy: 0.9688\n",
            "Validation Batch number: 013, Validation: Loss: 0.1609, Accuracy: 0.9062\n",
            "Validation Batch number: 014, Validation: Loss: 0.1867, Accuracy: 0.9062\n",
            "Validation Batch number: 015, Validation: Loss: 0.2052, Accuracy: 0.9062\n",
            "Validation Batch number: 016, Validation: Loss: 0.2706, Accuracy: 0.8750\n",
            "Validation Batch number: 017, Validation: Loss: 0.2988, Accuracy: 0.9375\n",
            "Validation Batch number: 018, Validation: Loss: 0.2464, Accuracy: 0.9062\n",
            "Validation Batch number: 019, Validation: Loss: 0.0611, Accuracy: 1.0000\n",
            "Validation Batch number: 020, Validation: Loss: 0.1280, Accuracy: 0.9375\n",
            "Validation Batch number: 021, Validation: Loss: 0.3285, Accuracy: 0.8750\n",
            "Validation Batch number: 022, Validation: Loss: 0.2274, Accuracy: 0.8750\n",
            "Validation Batch number: 023, Validation: Loss: 0.2459, Accuracy: 0.9062\n",
            "Validation Batch number: 024, Validation: Loss: 0.2898, Accuracy: 0.8125\n",
            "Validation Batch number: 025, Validation: Loss: 0.2081, Accuracy: 0.8750\n",
            "Validation Batch number: 026, Validation: Loss: 0.1319, Accuracy: 0.9688\n",
            "Validation Batch number: 027, Validation: Loss: 0.4079, Accuracy: 0.8438\n",
            "Validation Batch number: 028, Validation: Loss: 0.6579, Accuracy: 0.8750\n",
            "Validation Batch number: 029, Validation: Loss: 0.3419, Accuracy: 0.9375\n",
            "Validation Batch number: 030, Validation: Loss: 0.1309, Accuracy: 0.9375\n",
            "Validation Batch number: 031, Validation: Loss: 0.2540, Accuracy: 0.9062\n",
            "Validation Batch number: 032, Validation: Loss: 0.2213, Accuracy: 0.9375\n",
            "Validation Batch number: 033, Validation: Loss: 0.2002, Accuracy: 0.8438\n",
            "Validation Batch number: 034, Validation: Loss: 0.2068, Accuracy: 0.8750\n",
            "Validation Batch number: 035, Validation: Loss: 0.3175, Accuracy: 0.8125\n",
            "Validation Batch number: 036, Validation: Loss: 0.2200, Accuracy: 0.9062\n",
            "Validation Batch number: 037, Validation: Loss: 0.3398, Accuracy: 0.8750\n",
            "Validation Batch number: 038, Validation: Loss: 0.2551, Accuracy: 0.9375\n",
            "Validation Batch number: 039, Validation: Loss: 0.3194, Accuracy: 0.8438\n",
            "Validation Batch number: 040, Validation: Loss: 0.3898, Accuracy: 0.8438\n",
            "Validation Batch number: 041, Validation: Loss: 0.0594, Accuracy: 1.0000\n",
            "Epoch : 012, Training: Loss: 0.2543, Accuracy: 89.4737%, \n",
            "\t\tValidation : Loss : 0.2403, Accuracy: 90.3759%, Time: 7.8749s\n",
            "Epoch: 13/20\n",
            "Validation Batch number: 000, Validation: Loss: 0.1549, Accuracy: 0.9375\n",
            "Validation Batch number: 001, Validation: Loss: 0.2158, Accuracy: 0.9062\n",
            "Validation Batch number: 002, Validation: Loss: 0.3851, Accuracy: 0.8125\n",
            "Validation Batch number: 003, Validation: Loss: 0.1912, Accuracy: 0.9688\n",
            "Validation Batch number: 004, Validation: Loss: 0.2239, Accuracy: 0.9062\n",
            "Validation Batch number: 005, Validation: Loss: 0.4650, Accuracy: 0.8750\n",
            "Validation Batch number: 006, Validation: Loss: 0.3745, Accuracy: 0.7812\n",
            "Validation Batch number: 007, Validation: Loss: 0.2821, Accuracy: 0.9062\n",
            "Validation Batch number: 008, Validation: Loss: 0.2703, Accuracy: 0.8438\n",
            "Validation Batch number: 009, Validation: Loss: 0.0985, Accuracy: 0.9688\n",
            "Validation Batch number: 010, Validation: Loss: 0.2214, Accuracy: 0.9375\n",
            "Validation Batch number: 011, Validation: Loss: 0.1885, Accuracy: 0.9062\n",
            "Validation Batch number: 012, Validation: Loss: 0.0905, Accuracy: 0.9375\n",
            "Validation Batch number: 013, Validation: Loss: 0.2197, Accuracy: 0.9062\n",
            "Validation Batch number: 014, Validation: Loss: 0.2482, Accuracy: 0.8750\n",
            "Validation Batch number: 015, Validation: Loss: 0.1715, Accuracy: 0.9062\n",
            "Validation Batch number: 016, Validation: Loss: 0.3312, Accuracy: 0.8438\n",
            "Validation Batch number: 017, Validation: Loss: 0.3445, Accuracy: 0.9062\n",
            "Validation Batch number: 018, Validation: Loss: 0.2341, Accuracy: 0.8750\n",
            "Validation Batch number: 019, Validation: Loss: 0.1039, Accuracy: 0.9688\n",
            "Validation Batch number: 020, Validation: Loss: 0.1209, Accuracy: 0.9375\n",
            "Validation Batch number: 021, Validation: Loss: 0.3583, Accuracy: 0.8750\n",
            "Validation Batch number: 022, Validation: Loss: 0.2078, Accuracy: 0.8750\n",
            "Validation Batch number: 023, Validation: Loss: 0.2049, Accuracy: 0.9375\n",
            "Validation Batch number: 024, Validation: Loss: 0.3069, Accuracy: 0.8438\n",
            "Validation Batch number: 025, Validation: Loss: 0.2717, Accuracy: 0.8438\n",
            "Validation Batch number: 026, Validation: Loss: 0.1897, Accuracy: 0.9688\n",
            "Validation Batch number: 027, Validation: Loss: 0.4436, Accuracy: 0.8750\n",
            "Validation Batch number: 028, Validation: Loss: 0.6339, Accuracy: 0.7812\n",
            "Validation Batch number: 029, Validation: Loss: 0.3964, Accuracy: 0.8750\n",
            "Validation Batch number: 030, Validation: Loss: 0.1990, Accuracy: 0.9062\n",
            "Validation Batch number: 031, Validation: Loss: 0.2224, Accuracy: 0.9062\n",
            "Validation Batch number: 032, Validation: Loss: 0.2624, Accuracy: 0.9062\n",
            "Validation Batch number: 033, Validation: Loss: 0.2400, Accuracy: 0.8438\n",
            "Validation Batch number: 034, Validation: Loss: 0.2323, Accuracy: 0.8750\n",
            "Validation Batch number: 035, Validation: Loss: 0.3063, Accuracy: 0.9062\n",
            "Validation Batch number: 036, Validation: Loss: 0.1639, Accuracy: 0.9375\n",
            "Validation Batch number: 037, Validation: Loss: 0.4453, Accuracy: 0.8750\n",
            "Validation Batch number: 038, Validation: Loss: 0.3358, Accuracy: 0.8750\n",
            "Validation Batch number: 039, Validation: Loss: 0.3361, Accuracy: 0.8125\n",
            "Validation Batch number: 040, Validation: Loss: 0.3321, Accuracy: 0.8750\n",
            "Validation Batch number: 041, Validation: Loss: 0.0668, Accuracy: 0.9444\n",
            "Epoch : 013, Training: Loss: 0.2268, Accuracy: 90.7769%, \n",
            "\t\tValidation : Loss : 0.2662, Accuracy: 89.0977%, Time: 7.7504s\n",
            "Epoch: 14/20\n",
            "Validation Batch number: 000, Validation: Loss: 0.1697, Accuracy: 0.9062\n",
            "Validation Batch number: 001, Validation: Loss: 0.1340, Accuracy: 0.9688\n",
            "Validation Batch number: 002, Validation: Loss: 0.3487, Accuracy: 0.8438\n",
            "Validation Batch number: 003, Validation: Loss: 0.1724, Accuracy: 0.9688\n",
            "Validation Batch number: 004, Validation: Loss: 0.3332, Accuracy: 0.8125\n",
            "Validation Batch number: 005, Validation: Loss: 0.4155, Accuracy: 0.8750\n",
            "Validation Batch number: 006, Validation: Loss: 0.3032, Accuracy: 0.8750\n",
            "Validation Batch number: 007, Validation: Loss: 0.1622, Accuracy: 0.9688\n",
            "Validation Batch number: 008, Validation: Loss: 0.1988, Accuracy: 0.9375\n",
            "Validation Batch number: 009, Validation: Loss: 0.1538, Accuracy: 0.9688\n",
            "Validation Batch number: 010, Validation: Loss: 0.1459, Accuracy: 0.9375\n",
            "Validation Batch number: 011, Validation: Loss: 0.2734, Accuracy: 0.9375\n",
            "Validation Batch number: 012, Validation: Loss: 0.1003, Accuracy: 0.9688\n",
            "Validation Batch number: 013, Validation: Loss: 0.2190, Accuracy: 0.8438\n",
            "Validation Batch number: 014, Validation: Loss: 0.1516, Accuracy: 0.9375\n",
            "Validation Batch number: 015, Validation: Loss: 0.1856, Accuracy: 0.9062\n",
            "Validation Batch number: 016, Validation: Loss: 0.2524, Accuracy: 0.8438\n",
            "Validation Batch number: 017, Validation: Loss: 0.3575, Accuracy: 0.9375\n",
            "Validation Batch number: 018, Validation: Loss: 0.2877, Accuracy: 0.9062\n",
            "Validation Batch number: 019, Validation: Loss: 0.0565, Accuracy: 1.0000\n",
            "Validation Batch number: 020, Validation: Loss: 0.1213, Accuracy: 0.9688\n",
            "Validation Batch number: 021, Validation: Loss: 0.4183, Accuracy: 0.8750\n",
            "Validation Batch number: 022, Validation: Loss: 0.3226, Accuracy: 0.8438\n",
            "Validation Batch number: 023, Validation: Loss: 0.2240, Accuracy: 0.9375\n",
            "Validation Batch number: 024, Validation: Loss: 0.2714, Accuracy: 0.9062\n",
            "Validation Batch number: 025, Validation: Loss: 0.2742, Accuracy: 0.9062\n",
            "Validation Batch number: 026, Validation: Loss: 0.1664, Accuracy: 0.9688\n",
            "Validation Batch number: 027, Validation: Loss: 0.5097, Accuracy: 0.7500\n",
            "Validation Batch number: 028, Validation: Loss: 0.4391, Accuracy: 0.9062\n",
            "Validation Batch number: 029, Validation: Loss: 0.4439, Accuracy: 0.9375\n",
            "Validation Batch number: 030, Validation: Loss: 0.1570, Accuracy: 0.9062\n",
            "Validation Batch number: 031, Validation: Loss: 0.3237, Accuracy: 0.8438\n",
            "Validation Batch number: 032, Validation: Loss: 0.1864, Accuracy: 0.9062\n",
            "Validation Batch number: 033, Validation: Loss: 0.1473, Accuracy: 0.9688\n",
            "Validation Batch number: 034, Validation: Loss: 0.2549, Accuracy: 0.8750\n",
            "Validation Batch number: 035, Validation: Loss: 0.2601, Accuracy: 0.8438\n",
            "Validation Batch number: 036, Validation: Loss: 0.3299, Accuracy: 0.8438\n",
            "Validation Batch number: 037, Validation: Loss: 0.3908, Accuracy: 0.8750\n",
            "Validation Batch number: 038, Validation: Loss: 0.2581, Accuracy: 0.8438\n",
            "Validation Batch number: 039, Validation: Loss: 0.2491, Accuracy: 0.8438\n",
            "Validation Batch number: 040, Validation: Loss: 0.4622, Accuracy: 0.7500\n",
            "Validation Batch number: 041, Validation: Loss: 0.0975, Accuracy: 0.9444\n",
            "Epoch : 014, Training: Loss: 0.2345, Accuracy: 90.6516%, \n",
            "\t\tValidation : Loss : 0.2571, Accuracy: 89.9248%, Time: 7.7061s\n",
            "Epoch: 15/20\n",
            "Validation Batch number: 000, Validation: Loss: 0.3520, Accuracy: 0.8750\n",
            "Validation Batch number: 001, Validation: Loss: 0.2847, Accuracy: 0.9062\n",
            "Validation Batch number: 002, Validation: Loss: 0.7218, Accuracy: 0.7188\n",
            "Validation Batch number: 003, Validation: Loss: 0.3098, Accuracy: 0.9062\n",
            "Validation Batch number: 004, Validation: Loss: 0.4929, Accuracy: 0.6875\n",
            "Validation Batch number: 005, Validation: Loss: 0.4810, Accuracy: 0.8438\n",
            "Validation Batch number: 006, Validation: Loss: 0.5468, Accuracy: 0.8750\n",
            "Validation Batch number: 007, Validation: Loss: 0.2729, Accuracy: 0.9375\n",
            "Validation Batch number: 008, Validation: Loss: 0.2588, Accuracy: 0.9688\n",
            "Validation Batch number: 009, Validation: Loss: 0.2312, Accuracy: 0.9375\n",
            "Validation Batch number: 010, Validation: Loss: 0.2705, Accuracy: 0.8125\n",
            "Validation Batch number: 011, Validation: Loss: 0.3641, Accuracy: 0.9375\n",
            "Validation Batch number: 012, Validation: Loss: 0.2492, Accuracy: 0.9062\n",
            "Validation Batch number: 013, Validation: Loss: 0.2967, Accuracy: 0.9062\n",
            "Validation Batch number: 014, Validation: Loss: 0.2366, Accuracy: 0.9062\n",
            "Validation Batch number: 015, Validation: Loss: 0.3379, Accuracy: 0.9062\n",
            "Validation Batch number: 016, Validation: Loss: 0.3716, Accuracy: 0.7812\n",
            "Validation Batch number: 017, Validation: Loss: 0.5486, Accuracy: 0.8750\n",
            "Validation Batch number: 018, Validation: Loss: 0.4732, Accuracy: 0.7812\n",
            "Validation Batch number: 019, Validation: Loss: 0.1646, Accuracy: 0.9688\n",
            "Validation Batch number: 020, Validation: Loss: 0.2422, Accuracy: 0.9375\n",
            "Validation Batch number: 021, Validation: Loss: 0.4580, Accuracy: 0.8438\n",
            "Validation Batch number: 022, Validation: Loss: 0.5864, Accuracy: 0.7812\n",
            "Validation Batch number: 023, Validation: Loss: 0.3689, Accuracy: 0.8438\n",
            "Validation Batch number: 024, Validation: Loss: 0.3858, Accuracy: 0.8438\n",
            "Validation Batch number: 025, Validation: Loss: 0.5091, Accuracy: 0.8125\n",
            "Validation Batch number: 026, Validation: Loss: 0.2581, Accuracy: 0.9062\n",
            "Validation Batch number: 027, Validation: Loss: 0.6111, Accuracy: 0.7188\n",
            "Validation Batch number: 028, Validation: Loss: 0.5416, Accuracy: 0.8438\n",
            "Validation Batch number: 029, Validation: Loss: 0.5418, Accuracy: 0.9062\n",
            "Validation Batch number: 030, Validation: Loss: 0.1736, Accuracy: 0.9062\n",
            "Validation Batch number: 031, Validation: Loss: 0.4769, Accuracy: 0.8125\n",
            "Validation Batch number: 032, Validation: Loss: 0.3145, Accuracy: 0.8125\n",
            "Validation Batch number: 033, Validation: Loss: 0.3397, Accuracy: 0.8750\n",
            "Validation Batch number: 034, Validation: Loss: 0.2975, Accuracy: 0.8750\n",
            "Validation Batch number: 035, Validation: Loss: 0.4695, Accuracy: 0.7812\n",
            "Validation Batch number: 036, Validation: Loss: 0.5511, Accuracy: 0.8125\n",
            "Validation Batch number: 037, Validation: Loss: 0.3425, Accuracy: 0.8438\n",
            "Validation Batch number: 038, Validation: Loss: 0.4269, Accuracy: 0.7812\n",
            "Validation Batch number: 039, Validation: Loss: 0.3880, Accuracy: 0.7812\n",
            "Validation Batch number: 040, Validation: Loss: 0.4777, Accuracy: 0.8125\n",
            "Validation Batch number: 041, Validation: Loss: 0.1556, Accuracy: 1.0000\n",
            "Epoch : 015, Training: Loss: 0.2286, Accuracy: 90.6266%, \n",
            "\t\tValidation : Loss : 0.3877, Accuracy: 85.4887%, Time: 7.8295s\n",
            "Epoch: 16/20\n",
            "Validation Batch number: 000, Validation: Loss: 0.1485, Accuracy: 0.9062\n",
            "Validation Batch number: 001, Validation: Loss: 0.2131, Accuracy: 0.9375\n",
            "Validation Batch number: 002, Validation: Loss: 0.3476, Accuracy: 0.8438\n",
            "Validation Batch number: 003, Validation: Loss: 0.1582, Accuracy: 0.9062\n",
            "Validation Batch number: 004, Validation: Loss: 0.1518, Accuracy: 0.9688\n",
            "Validation Batch number: 005, Validation: Loss: 0.4842, Accuracy: 0.8750\n",
            "Validation Batch number: 006, Validation: Loss: 0.4200, Accuracy: 0.8125\n",
            "Validation Batch number: 007, Validation: Loss: 0.2413, Accuracy: 0.9375\n",
            "Validation Batch number: 008, Validation: Loss: 0.2542, Accuracy: 0.8750\n",
            "Validation Batch number: 009, Validation: Loss: 0.1066, Accuracy: 0.9375\n",
            "Validation Batch number: 010, Validation: Loss: 0.1960, Accuracy: 0.9375\n",
            "Validation Batch number: 011, Validation: Loss: 0.2249, Accuracy: 0.9062\n",
            "Validation Batch number: 012, Validation: Loss: 0.0797, Accuracy: 0.9375\n",
            "Validation Batch number: 013, Validation: Loss: 0.2207, Accuracy: 0.8750\n",
            "Validation Batch number: 014, Validation: Loss: 0.2030, Accuracy: 0.8750\n",
            "Validation Batch number: 015, Validation: Loss: 0.1788, Accuracy: 0.9375\n",
            "Validation Batch number: 016, Validation: Loss: 0.3510, Accuracy: 0.8750\n",
            "Validation Batch number: 017, Validation: Loss: 0.2663, Accuracy: 0.9375\n",
            "Validation Batch number: 018, Validation: Loss: 0.1845, Accuracy: 0.9375\n",
            "Validation Batch number: 019, Validation: Loss: 0.0823, Accuracy: 0.9688\n",
            "Validation Batch number: 020, Validation: Loss: 0.1343, Accuracy: 0.9375\n",
            "Validation Batch number: 021, Validation: Loss: 0.3326, Accuracy: 0.9062\n",
            "Validation Batch number: 022, Validation: Loss: 0.2063, Accuracy: 0.9062\n",
            "Validation Batch number: 023, Validation: Loss: 0.2491, Accuracy: 0.9062\n",
            "Validation Batch number: 024, Validation: Loss: 0.3089, Accuracy: 0.8125\n",
            "Validation Batch number: 025, Validation: Loss: 0.1647, Accuracy: 0.9375\n",
            "Validation Batch number: 026, Validation: Loss: 0.1062, Accuracy: 0.9375\n",
            "Validation Batch number: 027, Validation: Loss: 0.5094, Accuracy: 0.8125\n",
            "Validation Batch number: 028, Validation: Loss: 0.6739, Accuracy: 0.8438\n",
            "Validation Batch number: 029, Validation: Loss: 0.4305, Accuracy: 0.9375\n",
            "Validation Batch number: 030, Validation: Loss: 0.1837, Accuracy: 0.9062\n",
            "Validation Batch number: 031, Validation: Loss: 0.1628, Accuracy: 0.9375\n",
            "Validation Batch number: 032, Validation: Loss: 0.2724, Accuracy: 0.9375\n",
            "Validation Batch number: 033, Validation: Loss: 0.2384, Accuracy: 0.8750\n",
            "Validation Batch number: 034, Validation: Loss: 0.1858, Accuracy: 0.9062\n",
            "Validation Batch number: 035, Validation: Loss: 0.3273, Accuracy: 0.8438\n",
            "Validation Batch number: 036, Validation: Loss: 0.1497, Accuracy: 0.9062\n",
            "Validation Batch number: 037, Validation: Loss: 0.4973, Accuracy: 0.8750\n",
            "Validation Batch number: 038, Validation: Loss: 0.2532, Accuracy: 0.9062\n",
            "Validation Batch number: 039, Validation: Loss: 0.4004, Accuracy: 0.7812\n",
            "Validation Batch number: 040, Validation: Loss: 0.2701, Accuracy: 0.9062\n",
            "Validation Batch number: 041, Validation: Loss: 0.0469, Accuracy: 1.0000\n",
            "Epoch : 016, Training: Loss: 0.2260, Accuracy: 90.9273%, \n",
            "\t\tValidation : Loss : 0.2549, Accuracy: 90.1504%, Time: 7.8516s\n",
            "Epoch: 17/20\n",
            "Validation Batch number: 000, Validation: Loss: 0.1769, Accuracy: 0.9062\n",
            "Validation Batch number: 001, Validation: Loss: 0.1515, Accuracy: 0.9375\n",
            "Validation Batch number: 002, Validation: Loss: 0.3718, Accuracy: 0.8125\n",
            "Validation Batch number: 003, Validation: Loss: 0.2380, Accuracy: 0.8750\n",
            "Validation Batch number: 004, Validation: Loss: 0.2145, Accuracy: 0.9062\n",
            "Validation Batch number: 005, Validation: Loss: 0.5256, Accuracy: 0.8750\n",
            "Validation Batch number: 006, Validation: Loss: 0.3838, Accuracy: 0.8438\n",
            "Validation Batch number: 007, Validation: Loss: 0.1988, Accuracy: 0.9062\n",
            "Validation Batch number: 008, Validation: Loss: 0.2689, Accuracy: 0.8438\n",
            "Validation Batch number: 009, Validation: Loss: 0.1866, Accuracy: 0.9375\n",
            "Validation Batch number: 010, Validation: Loss: 0.1782, Accuracy: 0.9375\n",
            "Validation Batch number: 011, Validation: Loss: 0.1531, Accuracy: 0.9375\n",
            "Validation Batch number: 012, Validation: Loss: 0.1309, Accuracy: 0.9375\n",
            "Validation Batch number: 013, Validation: Loss: 0.2154, Accuracy: 0.8750\n",
            "Validation Batch number: 014, Validation: Loss: 0.1362, Accuracy: 0.9688\n",
            "Validation Batch number: 015, Validation: Loss: 0.2278, Accuracy: 0.9062\n",
            "Validation Batch number: 016, Validation: Loss: 0.2546, Accuracy: 0.8438\n",
            "Validation Batch number: 017, Validation: Loss: 0.3563, Accuracy: 0.9062\n",
            "Validation Batch number: 018, Validation: Loss: 0.2572, Accuracy: 0.8438\n",
            "Validation Batch number: 019, Validation: Loss: 0.0610, Accuracy: 1.0000\n",
            "Validation Batch number: 020, Validation: Loss: 0.1277, Accuracy: 0.9688\n",
            "Validation Batch number: 021, Validation: Loss: 0.4841, Accuracy: 0.8750\n",
            "Validation Batch number: 022, Validation: Loss: 0.3540, Accuracy: 0.8750\n",
            "Validation Batch number: 023, Validation: Loss: 0.3284, Accuracy: 0.7812\n",
            "Validation Batch number: 024, Validation: Loss: 0.3303, Accuracy: 0.8750\n",
            "Validation Batch number: 025, Validation: Loss: 0.2411, Accuracy: 0.9062\n",
            "Validation Batch number: 026, Validation: Loss: 0.1232, Accuracy: 0.9688\n",
            "Validation Batch number: 027, Validation: Loss: 0.3644, Accuracy: 0.8438\n",
            "Validation Batch number: 028, Validation: Loss: 0.6044, Accuracy: 0.8750\n",
            "Validation Batch number: 029, Validation: Loss: 0.4389, Accuracy: 0.9062\n",
            "Validation Batch number: 030, Validation: Loss: 0.1213, Accuracy: 0.9375\n",
            "Validation Batch number: 031, Validation: Loss: 0.2992, Accuracy: 0.8750\n",
            "Validation Batch number: 032, Validation: Loss: 0.2254, Accuracy: 0.9062\n",
            "Validation Batch number: 033, Validation: Loss: 0.1913, Accuracy: 0.9062\n",
            "Validation Batch number: 034, Validation: Loss: 0.2438, Accuracy: 0.8750\n",
            "Validation Batch number: 035, Validation: Loss: 0.3553, Accuracy: 0.7812\n",
            "Validation Batch number: 036, Validation: Loss: 0.3183, Accuracy: 0.8750\n",
            "Validation Batch number: 037, Validation: Loss: 0.4702, Accuracy: 0.8750\n",
            "Validation Batch number: 038, Validation: Loss: 0.2328, Accuracy: 0.9062\n",
            "Validation Batch number: 039, Validation: Loss: 0.2988, Accuracy: 0.8438\n",
            "Validation Batch number: 040, Validation: Loss: 0.4029, Accuracy: 0.8750\n",
            "Validation Batch number: 041, Validation: Loss: 0.0943, Accuracy: 0.9444\n",
            "Epoch : 017, Training: Loss: 0.2373, Accuracy: 90.8020%, \n",
            "\t\tValidation : Loss : 0.2718, Accuracy: 89.1729%, Time: 7.8212s\n",
            "Epoch: 18/20\n",
            "Validation Batch number: 000, Validation: Loss: 0.3039, Accuracy: 0.8750\n",
            "Validation Batch number: 001, Validation: Loss: 0.1576, Accuracy: 0.9688\n",
            "Validation Batch number: 002, Validation: Loss: 0.5082, Accuracy: 0.8125\n",
            "Validation Batch number: 003, Validation: Loss: 0.2952, Accuracy: 0.9062\n",
            "Validation Batch number: 004, Validation: Loss: 0.4060, Accuracy: 0.7812\n",
            "Validation Batch number: 005, Validation: Loss: 0.3972, Accuracy: 0.8438\n",
            "Validation Batch number: 006, Validation: Loss: 0.4437, Accuracy: 0.8750\n",
            "Validation Batch number: 007, Validation: Loss: 0.2322, Accuracy: 0.9375\n",
            "Validation Batch number: 008, Validation: Loss: 0.2315, Accuracy: 0.9688\n",
            "Validation Batch number: 009, Validation: Loss: 0.2131, Accuracy: 0.9375\n",
            "Validation Batch number: 010, Validation: Loss: 0.2370, Accuracy: 0.8125\n",
            "Validation Batch number: 011, Validation: Loss: 0.3719, Accuracy: 0.9375\n",
            "Validation Batch number: 012, Validation: Loss: 0.2508, Accuracy: 0.9062\n",
            "Validation Batch number: 013, Validation: Loss: 0.2453, Accuracy: 0.9062\n",
            "Validation Batch number: 014, Validation: Loss: 0.2348, Accuracy: 0.9375\n",
            "Validation Batch number: 015, Validation: Loss: 0.3369, Accuracy: 0.8438\n",
            "Validation Batch number: 016, Validation: Loss: 0.3203, Accuracy: 0.8125\n",
            "Validation Batch number: 017, Validation: Loss: 0.4838, Accuracy: 0.9062\n",
            "Validation Batch number: 018, Validation: Loss: 0.3955, Accuracy: 0.7812\n",
            "Validation Batch number: 019, Validation: Loss: 0.1095, Accuracy: 0.9688\n",
            "Validation Batch number: 020, Validation: Loss: 0.2016, Accuracy: 0.9688\n",
            "Validation Batch number: 021, Validation: Loss: 0.4337, Accuracy: 0.8750\n",
            "Validation Batch number: 022, Validation: Loss: 0.5277, Accuracy: 0.8438\n",
            "Validation Batch number: 023, Validation: Loss: 0.3470, Accuracy: 0.8438\n",
            "Validation Batch number: 024, Validation: Loss: 0.3054, Accuracy: 0.8750\n",
            "Validation Batch number: 025, Validation: Loss: 0.3667, Accuracy: 0.9062\n",
            "Validation Batch number: 026, Validation: Loss: 0.1661, Accuracy: 0.9062\n",
            "Validation Batch number: 027, Validation: Loss: 0.4605, Accuracy: 0.8125\n",
            "Validation Batch number: 028, Validation: Loss: 0.5807, Accuracy: 0.8438\n",
            "Validation Batch number: 029, Validation: Loss: 0.5086, Accuracy: 0.9688\n",
            "Validation Batch number: 030, Validation: Loss: 0.1334, Accuracy: 0.9375\n",
            "Validation Batch number: 031, Validation: Loss: 0.4278, Accuracy: 0.8438\n",
            "Validation Batch number: 032, Validation: Loss: 0.2415, Accuracy: 0.9062\n",
            "Validation Batch number: 033, Validation: Loss: 0.2359, Accuracy: 0.8750\n",
            "Validation Batch number: 034, Validation: Loss: 0.2810, Accuracy: 0.8750\n",
            "Validation Batch number: 035, Validation: Loss: 0.4129, Accuracy: 0.7812\n",
            "Validation Batch number: 036, Validation: Loss: 0.4457, Accuracy: 0.8125\n",
            "Validation Batch number: 037, Validation: Loss: 0.3442, Accuracy: 0.8750\n",
            "Validation Batch number: 038, Validation: Loss: 0.3449, Accuracy: 0.8125\n",
            "Validation Batch number: 039, Validation: Loss: 0.3137, Accuracy: 0.8125\n",
            "Validation Batch number: 040, Validation: Loss: 0.4850, Accuracy: 0.7812\n",
            "Validation Batch number: 041, Validation: Loss: 0.1300, Accuracy: 1.0000\n",
            "Epoch : 018, Training: Loss: 0.2295, Accuracy: 91.0777%, \n",
            "\t\tValidation : Loss : 0.3323, Accuracy: 87.6692%, Time: 7.7684s\n",
            "Epoch: 19/20\n",
            "Validation Batch number: 000, Validation: Loss: 0.1260, Accuracy: 0.9375\n",
            "Validation Batch number: 001, Validation: Loss: 0.1211, Accuracy: 0.9688\n",
            "Validation Batch number: 002, Validation: Loss: 0.2790, Accuracy: 0.8750\n",
            "Validation Batch number: 003, Validation: Loss: 0.2274, Accuracy: 0.9375\n",
            "Validation Batch number: 004, Validation: Loss: 0.1448, Accuracy: 0.9375\n",
            "Validation Batch number: 005, Validation: Loss: 0.4259, Accuracy: 0.9375\n",
            "Validation Batch number: 006, Validation: Loss: 0.3044, Accuracy: 0.8750\n",
            "Validation Batch number: 007, Validation: Loss: 0.2148, Accuracy: 0.9062\n",
            "Validation Batch number: 008, Validation: Loss: 0.2410, Accuracy: 0.9062\n",
            "Validation Batch number: 009, Validation: Loss: 0.1127, Accuracy: 0.9375\n",
            "Validation Batch number: 010, Validation: Loss: 0.1895, Accuracy: 0.9062\n",
            "Validation Batch number: 011, Validation: Loss: 0.2783, Accuracy: 0.9375\n",
            "Validation Batch number: 012, Validation: Loss: 0.0788, Accuracy: 0.9688\n",
            "Validation Batch number: 013, Validation: Loss: 0.1696, Accuracy: 0.9375\n",
            "Validation Batch number: 014, Validation: Loss: 0.1785, Accuracy: 0.9375\n",
            "Validation Batch number: 015, Validation: Loss: 0.1691, Accuracy: 0.9062\n",
            "Validation Batch number: 016, Validation: Loss: 0.2756, Accuracy: 0.8750\n",
            "Validation Batch number: 017, Validation: Loss: 0.2817, Accuracy: 0.9062\n",
            "Validation Batch number: 018, Validation: Loss: 0.1467, Accuracy: 0.9688\n",
            "Validation Batch number: 019, Validation: Loss: 0.0755, Accuracy: 1.0000\n",
            "Validation Batch number: 020, Validation: Loss: 0.1195, Accuracy: 0.9375\n",
            "Validation Batch number: 021, Validation: Loss: 0.2635, Accuracy: 0.9062\n",
            "Validation Batch number: 022, Validation: Loss: 0.2337, Accuracy: 0.8750\n",
            "Validation Batch number: 023, Validation: Loss: 0.2386, Accuracy: 0.9375\n",
            "Validation Batch number: 024, Validation: Loss: 0.2807, Accuracy: 0.8438\n",
            "Validation Batch number: 025, Validation: Loss: 0.1558, Accuracy: 0.9375\n",
            "Validation Batch number: 026, Validation: Loss: 0.0771, Accuracy: 0.9688\n",
            "Validation Batch number: 027, Validation: Loss: 0.4362, Accuracy: 0.8438\n",
            "Validation Batch number: 028, Validation: Loss: 0.7101, Accuracy: 0.8438\n",
            "Validation Batch number: 029, Validation: Loss: 0.5236, Accuracy: 0.9062\n",
            "Validation Batch number: 030, Validation: Loss: 0.1517, Accuracy: 0.9375\n",
            "Validation Batch number: 031, Validation: Loss: 0.1793, Accuracy: 0.9062\n",
            "Validation Batch number: 032, Validation: Loss: 0.2432, Accuracy: 0.9375\n",
            "Validation Batch number: 033, Validation: Loss: 0.2207, Accuracy: 0.9062\n",
            "Validation Batch number: 034, Validation: Loss: 0.1881, Accuracy: 0.9062\n",
            "Validation Batch number: 035, Validation: Loss: 0.3128, Accuracy: 0.8750\n",
            "Validation Batch number: 036, Validation: Loss: 0.1163, Accuracy: 0.9375\n",
            "Validation Batch number: 037, Validation: Loss: 0.4218, Accuracy: 0.8125\n",
            "Validation Batch number: 038, Validation: Loss: 0.2094, Accuracy: 0.9688\n",
            "Validation Batch number: 039, Validation: Loss: 0.3535, Accuracy: 0.7812\n",
            "Validation Batch number: 040, Validation: Loss: 0.3095, Accuracy: 0.9062\n",
            "Validation Batch number: 041, Validation: Loss: 0.0431, Accuracy: 1.0000\n",
            "Epoch : 019, Training: Loss: 0.2348, Accuracy: 90.9774%, \n",
            "\t\tValidation : Loss : 0.2360, Accuracy: 91.4286%, Time: 7.6883s\n",
            "Epoch: 20/20\n",
            "Validation Batch number: 000, Validation: Loss: 0.1054, Accuracy: 0.9688\n",
            "Validation Batch number: 001, Validation: Loss: 0.2060, Accuracy: 0.9375\n",
            "Validation Batch number: 002, Validation: Loss: 0.2942, Accuracy: 0.9062\n",
            "Validation Batch number: 003, Validation: Loss: 0.4203, Accuracy: 0.9062\n",
            "Validation Batch number: 004, Validation: Loss: 0.1151, Accuracy: 0.9688\n",
            "Validation Batch number: 005, Validation: Loss: 0.5496, Accuracy: 0.8438\n",
            "Validation Batch number: 006, Validation: Loss: 0.3319, Accuracy: 0.8438\n",
            "Validation Batch number: 007, Validation: Loss: 0.3175, Accuracy: 0.8438\n",
            "Validation Batch number: 008, Validation: Loss: 0.2853, Accuracy: 0.8438\n",
            "Validation Batch number: 009, Validation: Loss: 0.0980, Accuracy: 0.9375\n",
            "Validation Batch number: 010, Validation: Loss: 0.1763, Accuracy: 0.9375\n",
            "Validation Batch number: 011, Validation: Loss: 0.1383, Accuracy: 0.9062\n",
            "Validation Batch number: 012, Validation: Loss: 0.0684, Accuracy: 0.9688\n",
            "Validation Batch number: 013, Validation: Loss: 0.2197, Accuracy: 0.9062\n",
            "Validation Batch number: 014, Validation: Loss: 0.2808, Accuracy: 0.8750\n",
            "Validation Batch number: 015, Validation: Loss: 0.1590, Accuracy: 0.9062\n",
            "Validation Batch number: 016, Validation: Loss: 0.3225, Accuracy: 0.8438\n",
            "Validation Batch number: 017, Validation: Loss: 0.3083, Accuracy: 0.8750\n",
            "Validation Batch number: 018, Validation: Loss: 0.1639, Accuracy: 0.9062\n",
            "Validation Batch number: 019, Validation: Loss: 0.1029, Accuracy: 0.9688\n",
            "Validation Batch number: 020, Validation: Loss: 0.1040, Accuracy: 0.9688\n",
            "Validation Batch number: 021, Validation: Loss: 0.3438, Accuracy: 0.8750\n",
            "Validation Batch number: 022, Validation: Loss: 0.2477, Accuracy: 0.9375\n",
            "Validation Batch number: 023, Validation: Loss: 0.1718, Accuracy: 0.9375\n",
            "Validation Batch number: 024, Validation: Loss: 0.6299, Accuracy: 0.7812\n",
            "Validation Batch number: 025, Validation: Loss: 0.1896, Accuracy: 0.8750\n",
            "Validation Batch number: 026, Validation: Loss: 0.2229, Accuracy: 0.9375\n",
            "Validation Batch number: 027, Validation: Loss: 0.4369, Accuracy: 0.8750\n",
            "Validation Batch number: 028, Validation: Loss: 0.6527, Accuracy: 0.8438\n",
            "Validation Batch number: 029, Validation: Loss: 0.4329, Accuracy: 0.9062\n",
            "Validation Batch number: 030, Validation: Loss: 0.1637, Accuracy: 0.9062\n",
            "Validation Batch number: 031, Validation: Loss: 0.2059, Accuracy: 0.9375\n",
            "Validation Batch number: 032, Validation: Loss: 0.2353, Accuracy: 0.9062\n",
            "Validation Batch number: 033, Validation: Loss: 0.2347, Accuracy: 0.8438\n",
            "Validation Batch number: 034, Validation: Loss: 0.3012, Accuracy: 0.8125\n",
            "Validation Batch number: 035, Validation: Loss: 0.2899, Accuracy: 0.8750\n",
            "Validation Batch number: 036, Validation: Loss: 0.1062, Accuracy: 0.9688\n",
            "Validation Batch number: 037, Validation: Loss: 0.4498, Accuracy: 0.8438\n",
            "Validation Batch number: 038, Validation: Loss: 0.2740, Accuracy: 0.8438\n",
            "Validation Batch number: 039, Validation: Loss: 0.2835, Accuracy: 0.8750\n",
            "Validation Batch number: 040, Validation: Loss: 0.3463, Accuracy: 0.8750\n",
            "Validation Batch number: 041, Validation: Loss: 0.0597, Accuracy: 0.9444\n",
            "Epoch : 020, Training: Loss: 0.2243, Accuracy: 91.2782%, \n",
            "\t\tValidation : Loss : 0.2651, Accuracy: 89.6241%, Time: 7.7424s\n"
          ],
          "name": "stdout"
        }
      ]
    },
    {
      "cell_type": "code",
      "metadata": {
        "colab": {
          "base_uri": "https://localhost:8080/"
        },
        "id": "ybXQ4StwP-M7",
        "outputId": "0a8fd75b-7917-47cc-e087-6db57d2d8aec"
      },
      "source": [
        "print(acc)"
      ],
      "execution_count": 17,
      "outputs": [
        {
          "output_type": "stream",
          "text": [
            "0.9157894736842105\n"
          ],
          "name": "stdout"
        }
      ]
    },
    {
      "cell_type": "code",
      "metadata": {
        "id": "bVKYLTZxDWYh",
        "colab": {
          "base_uri": "https://localhost:8080/",
          "height": 283
        },
        "outputId": "6bd7d485-ca93-4bb0-9cda-2e20f1266dc8"
      },
      "source": [
        "history = np.array(history)\n",
        "plt.plot(history[:,0:2])\n",
        "plt.legend(['Tr Loss', 'Val Loss'])\n",
        "plt.xlabel('Epoch Number')\n",
        "plt.ylabel('Loss')\n",
        "plt.ylim(0,1)\n",
        "plt.savefig('loss_curve.png')\n",
        "plt.show()"
      ],
      "execution_count": 18,
      "outputs": [
        {
          "output_type": "display_data",
          "data": {
            "image/png": "[encoded data removed]",
            "text/plain": [
              "<Figure size 432x288 with 1 Axes>"
            ]
          },
          "metadata": {
            "tags": [],
            "needs_background": "light"
          }
        }
      ]
    },
    {
      "cell_type": "code",
      "metadata": {
        "id": "I9WB8D9pDWYh",
        "colab": {
          "base_uri": "https://localhost:8080/",
          "height": 283
        },
        "outputId": "c3992892-1ee8-4ec3-adf5-36f4d70404f3"
      },
      "source": [
        "plt.plot(history[:,2:4])\n",
        "plt.legend(['Tr Accuracy', 'Val Accuracy'])\n",
        "plt.xlabel('Epoch Number')\n",
        "plt.ylabel('Accuracy')\n",
        "plt.ylim(0,1)\n",
        "plt.savefig('accuracy_curve.png')\n",
        "plt.show()"
      ],
      "execution_count": 19,
      "outputs": [
        {
          "output_type": "display_data",
          "data": {
            "image/png": "[encoded data removed]",
            "text/plain": [
              "<Figure size 432x288 with 1 Axes>"
            ]
          },
          "metadata": {
            "tags": [],
            "needs_background": "light"
          }
        }
      ]
    },
    {
      "cell_type": "markdown",
      "metadata": {
        "id": "dVUum2VnDWYh"
      },
      "source": [
        "Prediction function\n"
      ]
    },
    {
      "cell_type": "code",
      "metadata": {
        "id": "5vxAQBfWDWYh"
      },
      "source": [
        "def predict(model, image):\n",
        "    '''\n",
        "    Function to predict the class of a single test image\n",
        "    Parameters\n",
        "        :param model: Model to test\n",
        "        :param test_image_name: Test image\n",
        "\n",
        "    '''\n",
        "    img_PIL = transforms.ToPILImage()(image)\n",
        "    img_PIL = transforms.Resize([100, 100])(img_PIL)\n",
        "    test_image_tensor = transforms.ToTensor()(img_PIL)\n",
        "    test_image_tensor = test_image_tensor.view(1, 3, 100, 100)\n",
        "    test_image_tensor = test_image_tensor.to(device)# in case we use GPU\n",
        "\n",
        "    with torch.no_grad():\n",
        "        model.eval()\n",
        "        # Model outputs log probabilities\n",
        "        out = model(test_image_tensor)\n",
        "        ps = torch.exp(out)\n",
        "        topk, topclass = ps.topk(len(classes), dim=1)\n",
        "        for i in range(len(classes)):\n",
        "            topk, topclass = topk.cpu(), topclass.cpu()# in case we use GPU\n",
        "            print(\"Predcition\", i+1, \":\", classes[topclass.numpy()[0][i]], \", Score: \", topk.numpy()[0][i]) #idx_to_class[topclass.numpy()[0][i]]"
      ],
      "execution_count": 20,
      "outputs": []
    },
    {
      "cell_type": "markdown",
      "metadata": {
        "id": "2GFAF5KCDWYh"
      },
      "source": [
        "Test on some examples of test data"
      ]
    },
    {
      "cell_type": "code",
      "metadata": {
        "id": "gIl4zmyvDWYi",
        "colab": {
          "base_uri": "https://localhost:8080/",
          "height": 378
        },
        "outputId": "6df5e761-6121-42d5-a997-8679429cffb5"
      },
      "source": [
        "example = test_set[0]\n",
        "predict(trained_model, example[0])\n",
        "print(\"Actual:\", classes[example[1]])\n",
        "plt.imshow(transforms.ToPILImage()(example[0]), interpolation=\"bicubic\")"
      ],
      "execution_count": 21,
      "outputs": [
        {
          "output_type": "stream",
          "text": [
            "Predcition 1 : nothing , Score:  0.98332995\n",
            "Predcition 2 : raindrop , Score:  0.015134726\n",
            "Predcition 3 : insect , Score:  0.0011827043\n",
            "Predcition 4 : sun , Score:  0.00035265717\n",
            "Actual: nothing\n"
          ],
          "name": "stdout"
        },
        {
          "output_type": "execute_result",
          "data": {
            "text/plain": [
              "<matplotlib.image.AxesImage at 0x7f1d0926c1d0>"
            ]
          },
          "metadata": {
            "tags": []
          },
          "execution_count": 21
        },
        {
          "output_type": "display_data",
          "data": {
            "image/png": "[encoded data removed]",
            "text/plain": [
              "<Figure size 432x288 with 1 Axes>"
            ]
          },
          "metadata": {
            "tags": [],
            "needs_background": "light"
          }
        }
      ]
    },
    {
      "cell_type": "code",
      "metadata": {
        "id": "D5klXH87DWYi",
        "colab": {
          "base_uri": "https://localhost:8080/",
          "height": 378
        },
        "outputId": "1d7ba9bb-7038-4e8b-af5a-f5a207fa91f6"
      },
      "source": [
        "example = test_set[1]\n",
        "predict(trained_model, example[0])\n",
        "print(\"Actual:\", classes[example[1]])\n",
        "plt.imshow(transforms.ToPILImage()(example[0]), interpolation=\"bicubic\")"
      ],
      "execution_count": 22,
      "outputs": [
        {
          "output_type": "stream",
          "text": [
            "Predcition 1 : nothing , Score:  0.92958593\n",
            "Predcition 2 : raindrop , Score:  0.06565186\n",
            "Predcition 3 : insect , Score:  0.003920873\n",
            "Predcition 4 : sun , Score:  0.00084129773\n",
            "Actual: nothing\n"
          ],
          "name": "stdout"
        },
        {
          "output_type": "execute_result",
          "data": {
            "text/plain": [
              "<matplotlib.image.AxesImage at 0x7f1d091c25f8>"
            ]
          },
          "metadata": {
            "tags": []
          },
          "execution_count": 22
        },
        {
          "output_type": "display_data",
          "data": {
            "image/png": "[encoded data removed]",
            "text/plain": [
              "<Figure size 432x288 with 1 Axes>"
            ]
          },
          "metadata": {
            "tags": [],
            "needs_background": "light"
          }
        }
      ]
    },
    {
      "cell_type": "code",
      "metadata": {
        "id": "UqN4bg58DWYj",
        "colab": {
          "base_uri": "https://localhost:8080/",
          "height": 378
        },
        "outputId": "0e6ae2c0-0751-45b5-cd9b-b6a681ff6146"
      },
      "source": [
        "example = test_set[2]\n",
        "predict(trained_model, example[0])\n",
        "print(\"Actual:\", classes[example[1]])\n",
        "plt.imshow(transforms.ToPILImage()(example[0]), interpolation=\"bicubic\")"
      ],
      "execution_count": 23,
      "outputs": [
        {
          "output_type": "stream",
          "text": [
            "Predcition 1 : nothing , Score:  0.94862133\n",
            "Predcition 2 : raindrop , Score:  0.047813512\n",
            "Predcition 3 : insect , Score:  0.0032707737\n",
            "Predcition 4 : sun , Score:  0.00029445384\n",
            "Actual: nothing\n"
          ],
          "name": "stdout"
        },
        {
          "output_type": "execute_result",
          "data": {
            "text/plain": [
              "<matplotlib.image.AxesImage at 0x7f1d09198a90>"
            ]
          },
          "metadata": {
            "tags": []
          },
          "execution_count": 23
        },
        {
          "output_type": "display_data",
          "data": {
            "image/png": "[encoded data removed]",
            "text/plain": [
              "<Figure size 432x288 with 1 Axes>"
            ]
          },
          "metadata": {
            "tags": [],
            "needs_background": "light"
          }
        }
      ]
    },
    {
      "cell_type": "code",
      "metadata": {
        "id": "8xGmdL3pDWYj",
        "colab": {
          "base_uri": "https://localhost:8080/",
          "height": 378
        },
        "outputId": "a3351e35-8dc6-43c3-e68a-fe3558fb2e6d"
      },
      "source": [
        "example = test_set[3]\n",
        "predict(trained_model, example[0])\n",
        "print(\"Actual:\", classes[example[1]])\n",
        "plt.imshow(transforms.ToPILImage()(example[0]), interpolation=\"bicubic\")"
      ],
      "execution_count": 24,
      "outputs": [
        {
          "output_type": "stream",
          "text": [
            "Predcition 1 : nothing , Score:  0.99197394\n",
            "Predcition 2 : raindrop , Score:  0.007740348\n",
            "Predcition 3 : insect , Score:  0.00028565802\n",
            "Predcition 4 : sun , Score:  7.592437e-12\n",
            "Actual: nothing\n"
          ],
          "name": "stdout"
        },
        {
          "output_type": "execute_result",
          "data": {
            "text/plain": [
              "<matplotlib.image.AxesImage at 0x7f1d0916fe10>"
            ]
          },
          "metadata": {
            "tags": []
          },
          "execution_count": 24
        },
        {
          "output_type": "display_data",
          "data": {
            "image/png": "[encoded data removed]",
            "text/plain": [
              "<Figure size 432x288 with 1 Axes>"
            ]
          },
          "metadata": {
            "tags": [],
            "needs_background": "light"
          }
        }
      ]
    },
    {
      "cell_type": "code",
      "metadata": {
        "id": "LA67uJn5DWYk",
        "colab": {
          "base_uri": "https://localhost:8080/",
          "height": 378
        },
        "outputId": "a5a0f975-2a40-4d5f-e67b-9a3d7683d1fa"
      },
      "source": [
        "example = test_set[4]\n",
        "predict(trained_model, example[0])\n",
        "print(\"Actual:\", classes[example[1]])\n",
        "plt.imshow(transforms.ToPILImage()(example[0]), interpolation=\"bicubic\")"
      ],
      "execution_count": 25,
      "outputs": [
        {
          "output_type": "stream",
          "text": [
            "Predcition 1 : nothing , Score:  0.99870646\n",
            "Predcition 2 : raindrop , Score:  0.0011065174\n",
            "Predcition 3 : insect , Score:  0.00018698303\n",
            "Predcition 4 : sun , Score:  1.2809995e-11\n",
            "Actual: nothing\n"
          ],
          "name": "stdout"
        },
        {
          "output_type": "execute_result",
          "data": {
            "text/plain": [
              "<matplotlib.image.AxesImage at 0x7f1d090d72b0>"
            ]
          },
          "metadata": {
            "tags": []
          },
          "execution_count": 25
        },
        {
          "output_type": "display_data",
          "data": {
            "image/png": "[encoded data removed]",
            "text/plain": [
              "<Figure size 432x288 with 1 Axes>"
            ]
          },
          "metadata": {
            "tags": [],
            "needs_background": "light"
          }
        }
      ]
    },
    {
      "cell_type": "code",
      "metadata": {
        "id": "FywtVTWDDWYk",
        "colab": {
          "base_uri": "https://localhost:8080/",
          "height": 378
        },
        "outputId": "43e64ec8-ebe6-443c-98df-5918b4ba823f"
      },
      "source": [
        "example = test_set[5]\n",
        "predict(trained_model, example[0])\n",
        "print(\"Actual:\", classes[example[1]])\n",
        "plt.imshow(transforms.ToPILImage()(example[0]), interpolation=\"bicubic\")"
      ],
      "execution_count": 26,
      "outputs": [
        {
          "output_type": "stream",
          "text": [
            "Predcition 1 : nothing , Score:  0.99846214\n",
            "Predcition 2 : raindrop , Score:  0.0014722876\n",
            "Predcition 3 : insect , Score:  4.947583e-05\n",
            "Predcition 4 : sun , Score:  1.6033831e-05\n",
            "Actual: nothing\n"
          ],
          "name": "stdout"
        },
        {
          "output_type": "execute_result",
          "data": {
            "text/plain": [
              "<matplotlib.image.AxesImage at 0x7f1d090ad7b8>"
            ]
          },
          "metadata": {
            "tags": []
          },
          "execution_count": 26
        },
        {
          "output_type": "display_data",
          "data": {
            "image/png": "[encoded data removed]",
            "text/plain": [
              "<Figure size 432x288 with 1 Axes>"
            ]
          },
          "metadata": {
            "tags": [],
            "needs_background": "light"
          }
        }
      ]
    },
    {
      "cell_type": "code",
      "metadata": {
        "id": "mXEz2HqaDWYl",
        "colab": {
          "base_uri": "https://localhost:8080/",
          "height": 378
        },
        "outputId": "c4c112f3-79ba-477b-f37c-ea187f77f790"
      },
      "source": [
        "example = test_set[6]\n",
        "predict(trained_model, example[0])\n",
        "print(\"Actual:\", classes[example[1]])\n",
        "plt.imshow(transforms.ToPILImage()(example[0]), interpolation=\"bicubic\")"
      ],
      "execution_count": 27,
      "outputs": [
        {
          "output_type": "stream",
          "text": [
            "Predcition 1 : nothing , Score:  0.99996305\n",
            "Predcition 2 : raindrop , Score:  3.6992413e-05\n",
            "Predcition 3 : insect , Score:  1.023796e-08\n",
            "Predcition 4 : sun , Score:  3.017611e-15\n",
            "Actual: nothing\n"
          ],
          "name": "stdout"
        },
        {
          "output_type": "execute_result",
          "data": {
            "text/plain": [
              "<matplotlib.image.AxesImage at 0x7f1d09004c50>"
            ]
          },
          "metadata": {
            "tags": []
          },
          "execution_count": 27
        },
        {
          "output_type": "display_data",
          "data": {
            "image/png": "[encoded data removed]",
            "text/plain": [
              "<Figure size 432x288 with 1 Axes>"
            ]
          },
          "metadata": {
            "tags": [],
            "needs_background": "light"
          }
        }
      ]
    },
    {
      "cell_type": "code",
      "metadata": {
        "id": "84eEBFWZDWYl",
        "colab": {
          "base_uri": "https://localhost:8080/",
          "height": 378
        },
        "outputId": "5193fd7a-13d4-44a8-f935-d084e0fa8687"
      },
      "source": [
        "example = test_set[7]\n",
        "predict(trained_model, example[0])\n",
        "print(\"Actual:\", classes[example[1]])\n",
        "plt.imshow(transforms.ToPILImage()(example[0]), interpolation=\"bicubic\")"
      ],
      "execution_count": 28,
      "outputs": [
        {
          "output_type": "stream",
          "text": [
            "Predcition 1 : nothing , Score:  0.99844104\n",
            "Predcition 2 : raindrop , Score:  0.0015466464\n",
            "Predcition 3 : insect , Score:  1.23814325e-05\n",
            "Predcition 4 : sun , Score:  9.617999e-10\n",
            "Actual: nothing\n"
          ],
          "name": "stdout"
        },
        {
          "output_type": "execute_result",
          "data": {
            "text/plain": [
              "<matplotlib.image.AxesImage at 0x7f1d08fea0b8>"
            ]
          },
          "metadata": {
            "tags": []
          },
          "execution_count": 28
        },
        {
          "output_type": "display_data",
          "data": {
            "image/png": "[encoded data removed]",
            "text/plain": [
              "<Figure size 432x288 with 1 Axes>"
            ]
          },
          "metadata": {
            "tags": [],
            "needs_background": "light"
          }
        }
      ]
    },
    {
      "cell_type": "code",
      "metadata": {
        "id": "xF4xycJWDWYl",
        "colab": {
          "base_uri": "https://localhost:8080/",
          "height": 378
        },
        "outputId": "4d7a08ab-f96e-4709-f837-5c22ec43d43b"
      },
      "source": [
        "example = test_set[8]\n",
        "predict(trained_model, example[0])\n",
        "print(\"Actual:\", classes[example[1]])\n",
        "plt.imshow(transforms.ToPILImage()(example[0]), interpolation=\"bicubic\")"
      ],
      "execution_count": 29,
      "outputs": [
        {
          "output_type": "stream",
          "text": [
            "Predcition 1 : raindrop , Score:  0.9350316\n",
            "Predcition 2 : nothing , Score:  0.06364706\n",
            "Predcition 3 : insect , Score:  0.0013213468\n",
            "Predcition 4 : sun , Score:  1.9332744e-09\n",
            "Actual: raindrop\n"
          ],
          "name": "stdout"
        },
        {
          "output_type": "execute_result",
          "data": {
            "text/plain": [
              "<matplotlib.image.AxesImage at 0x7f1d08f42470>"
            ]
          },
          "metadata": {
            "tags": []
          },
          "execution_count": 29
        },
        {
          "output_type": "display_data",
          "data": {
            "image/png": "[encoded data removed]",
            "text/plain": [
              "<Figure size 432x288 with 1 Axes>"
            ]
          },
          "metadata": {
            "tags": [],
            "needs_background": "light"
          }
        }
      ]
    },
    {
      "cell_type": "code",
      "metadata": {
        "id": "x3I7feDgDWYl",
        "colab": {
          "base_uri": "https://localhost:8080/",
          "height": 378
        },
        "outputId": "110d17f3-e4d5-48c9-9445-85458532117d"
      },
      "source": [
        "example = test_set[9]\n",
        "predict(trained_model, example[0])\n",
        "print(\"Actual:\", classes[example[1]])\n",
        "plt.imshow(transforms.ToPILImage()(example[0]), interpolation=\"bicubic\")"
      ],
      "execution_count": 30,
      "outputs": [
        {
          "output_type": "stream",
          "text": [
            "Predcition 1 : nothing , Score:  0.9999699\n",
            "Predcition 2 : insect , Score:  3.0040563e-05\n",
            "Predcition 3 : raindrop , Score:  7.416729e-08\n",
            "Predcition 4 : sun , Score:  1.1581517e-12\n",
            "Actual: nothing\n"
          ],
          "name": "stdout"
        },
        {
          "output_type": "execute_result",
          "data": {
            "text/plain": [
              "<matplotlib.image.AxesImage at 0x7f1d08f19908>"
            ]
          },
          "metadata": {
            "tags": []
          },
          "execution_count": 30
        },
        {
          "output_type": "display_data",
          "data": {
            "image/png": "[encoded data removed]",
            "text/plain": [
              "<Figure size 432x288 with 1 Axes>"
            ]
          },
          "metadata": {
            "tags": [],
            "needs_background": "light"
          }
        }
      ]
    },
    {
      "cell_type": "code",
      "metadata": {
        "id": "oRrzXCoFv4so"
      },
      "source": [
        "def predict_on_testset(model):\r\n",
        "  for j, (inputs, labels) in enumerate(test_data_loader):\r\n",
        "    inputs = inputs.to(device) # cuda or cpu\r\n",
        "    labels = labels.to(device)\r\n",
        "\r\n",
        "    # Forward pass - compute outputs on input data using the model\r\n",
        "    outputs = model(inputs)\r\n",
        "\r\n",
        "    # Calculate validation accuracy\r\n",
        "    ret, predictions = torch.max(outputs.data, 1)\r\n",
        "    correct_counts = predictions.eq(labels.data.view_as(predictions))\r\n",
        "\r\n",
        "    # Convert correct_counts to float and then compute the mean\r\n",
        "    acc = torch.mean(correct_counts.type(torch.FloatTensor))\r\n",
        "\r\n",
        "    # Compute total accuracy in the whole batch and add to valid_acc\r\n",
        "    #test_acc += acc.item() * inputs.size(0)\r\n",
        "    \r\n",
        "  print(\"Test accuracy: {:.4f}\".format(acc.item()))\r\n",
        "  return predictions, labels"
      ],
      "execution_count": 31,
      "outputs": []
    },
    {
      "cell_type": "code",
      "metadata": {
        "colab": {
          "base_uri": "https://localhost:8080/"
        },
        "id": "yJzTpf7WkfhF",
        "outputId": "59198468-13b4-4819-8059-9fb7d551fea7"
      },
      "source": [
        "predictions, labels = predict_on_testset(trained_model)"
      ],
      "execution_count": 32,
      "outputs": [
        {
          "output_type": "stream",
          "text": [
            "Test accuracy: 0.9174\n"
          ],
          "name": "stdout"
        }
      ]
    },
    {
      "cell_type": "markdown",
      "metadata": {
        "id": "2hWUnyBc2TXU"
      },
      "source": [
        "Confusion matrix\r\n",
        "\r\n",
        "https://en.wikipedia.org/wiki/Confusion_matrix\r\n",
        "\r\n",
        "PyTorch confusion matrix - https://deeplizard.com/learn/video/0LhiS6yu2qQ\r\n"
      ]
    },
    {
      "cell_type": "code",
      "metadata": {
        "id": "y0SkfuYP2TBn",
        "colab": {
          "base_uri": "https://localhost:8080/"
        },
        "outputId": "9c899dee-c927-4f7a-f9f8-1d6036fd8e8a"
      },
      "source": [
        "print(predictions.shape)"
      ],
      "execution_count": 33,
      "outputs": [
        {
          "output_type": "stream",
          "text": [
            "torch.Size([1331])\n"
          ],
          "name": "stdout"
        }
      ]
    },
    {
      "cell_type": "code",
      "metadata": {
        "colab": {
          "base_uri": "https://localhost:8080/"
        },
        "id": "PFaEoemS_-om",
        "outputId": "b24663af-d409-44de-f506-5579c26ac0ad"
      },
      "source": [
        "print(labels.shape)"
      ],
      "execution_count": 34,
      "outputs": [
        {
          "output_type": "stream",
          "text": [
            "torch.Size([1331])\n"
          ],
          "name": "stdout"
        }
      ]
    },
    {
      "cell_type": "code",
      "metadata": {
        "colab": {
          "base_uri": "https://localhost:8080/"
        },
        "id": "P-dDeuKNB7iE",
        "outputId": "fff43c52-873c-4b28-dec3-41cb3e426fc2"
      },
      "source": [
        "# stack\r\n",
        "stacked_labels_and_predictions = torch.stack((labels, predictions),dim=1)\r\n",
        "stacked_labels_and_predictions.shape"
      ],
      "execution_count": 35,
      "outputs": [
        {
          "output_type": "execute_result",
          "data": {
            "text/plain": [
              "torch.Size([1331, 2])"
            ]
          },
          "metadata": {
            "tags": []
          },
          "execution_count": 35
        }
      ]
    },
    {
      "cell_type": "code",
      "metadata": {
        "colab": {
          "base_uri": "https://localhost:8080/"
        },
        "id": "6Yv2axO6DI4O",
        "outputId": "ce1724ef-7de1-48c8-e88a-07dba66da159"
      },
      "source": [
        "stacked_labels_and_predictions"
      ],
      "execution_count": 36,
      "outputs": [
        {
          "output_type": "execute_result",
          "data": {
            "text/plain": [
              "tensor([[0, 0],\n",
              "        [0, 0],\n",
              "        [0, 0],\n",
              "        ...,\n",
              "        [1, 1],\n",
              "        [1, 1],\n",
              "        [2, 2]], device='cuda:0')"
            ]
          },
          "metadata": {
            "tags": []
          },
          "execution_count": 36
        }
      ]
    },
    {
      "cell_type": "code",
      "metadata": {
        "colab": {
          "base_uri": "https://localhost:8080/"
        },
        "id": "vYACHBpURosG",
        "outputId": "d8f70432-9364-4965-9d87-3c0c060e3f56"
      },
      "source": [
        "n_classes = 4 # nothing, raindrop, insect, sun\r\n",
        "conf_mtrx = torch.zeros(n_classes, n_classes, dtype=torch.int64)\r\n",
        "conf_mtrx"
      ],
      "execution_count": 37,
      "outputs": [
        {
          "output_type": "execute_result",
          "data": {
            "text/plain": [
              "tensor([[0, 0, 0, 0],\n",
              "        [0, 0, 0, 0],\n",
              "        [0, 0, 0, 0],\n",
              "        [0, 0, 0, 0]])"
            ]
          },
          "metadata": {
            "tags": []
          },
          "execution_count": 37
        }
      ]
    },
    {
      "cell_type": "code",
      "metadata": {
        "colab": {
          "base_uri": "https://localhost:8080/"
        },
        "id": "UAx4mLH2SDWU",
        "outputId": "1a8f6f92-9fcf-4a6b-bee2-db18b640d22b"
      },
      "source": [
        "for p in stacked_labels_and_predictions:\r\n",
        "    tl, pl = p.tolist()\r\n",
        "    conf_mtrx[tl, pl] = conf_mtrx[tl, pl] + 1\r\n",
        "\r\n",
        "conf_mtrx"
      ],
      "execution_count": 38,
      "outputs": [
        {
          "output_type": "execute_result",
          "data": {
            "text/plain": [
              "tensor([[941,  19,   5,   0],\n",
              "        [ 57, 173,  24,   0],\n",
              "        [  1,   4,  80,   0],\n",
              "        [  0,   0,   0,  27]])"
            ]
          },
          "metadata": {
            "tags": []
          },
          "execution_count": 38
        }
      ]
    },
    {
      "cell_type": "code",
      "metadata": {
        "id": "DSSRNc1VbGar"
      },
      "source": [
        "import itertools\r\n",
        "import numpy as np\r\n",
        "import matplotlib.pyplot as plt\r\n",
        "\r\n",
        "def plot_confusion_matrix(conf_mtrx, classes, normalize=False, title='Confusion matrix', cmap=plt.cm.Blues):\r\n",
        "    if normalize:\r\n",
        "        conf_mtrx = conf_mtrx.astype('float') / cm.sum(axis=1)[:, np.newaxis]\r\n",
        "        print(\"Normalized confusion matrix\")\r\n",
        "    else:\r\n",
        "        print('Confusion matrix, without normalization')\r\n",
        "\r\n",
        "    print(conf_mtrx)\r\n",
        "    plt.imshow(conf_mtrx, interpolation='nearest', cmap=cmap)\r\n",
        "    plt.title(title)\r\n",
        "    plt.colorbar()\r\n",
        "    tick_marks = np.arange(len(classes))\r\n",
        "    plt.xticks(tick_marks, classes, rotation=45)\r\n",
        "    plt.yticks(tick_marks, classes)\r\n",
        "\r\n",
        "    fmt = '.2f' if normalize else 'd'\r\n",
        "    thresh = conf_mtrx.max() / 2.\r\n",
        "    for i, j in itertools.product(range(conf_mtrx.shape[0]), range(conf_mtrx.shape[1])):\r\n",
        "        plt.text(j, i, format(conf_mtrx[i, j], fmt), horizontalalignment=\"center\", color=\"white\" if conf_mtrx[i, j] > thresh else \"black\")\r\n",
        "\r\n",
        "    plt.tight_layout()\r\n",
        "    plt.ylabel('True label')\r\n",
        "    plt.xlabel('Predicted label')"
      ],
      "execution_count": 39,
      "outputs": []
    },
    {
      "cell_type": "code",
      "metadata": {
        "colab": {
          "base_uri": "https://localhost:8080/",
          "height": 403
        },
        "id": "UvfOwWX3T-NM",
        "outputId": "40607d6d-1958-4bc3-e3ac-2b8067f70519"
      },
      "source": [
        "classes = ['nothing', 'raindrop', 'insect', 'sun']\r\n",
        "\r\n",
        "plot_confusion_matrix(conf_mtrx=conf_mtrx, classes=classes)"
      ],
      "execution_count": 40,
      "outputs": [
        {
          "output_type": "stream",
          "text": [
            "Confusion matrix, without normalization\n",
            "tensor([[941,  19,   5,   0],\n",
            "        [ 57, 173,  24,   0],\n",
            "        [  1,   4,  80,   0],\n",
            "        [  0,   0,   0,  27]])\n"
          ],
          "name": "stdout"
        },
        {
          "output_type": "display_data",
          "data": {
            "image/png": "[encoded data removed]",
            "text/plain": [
              "<Figure size 432x288 with 2 Axes>"
            ]
          },
          "metadata": {
            "tags": [],
            "needs_background": "light"
          }
        }
      ]
    },
    {
      "cell_type": "markdown",
      "metadata": {
        "id": "u7iNjKCofptJ"
      },
      "source": [
        "true positive (TP)\r\n",
        "    eqv. with hit\r\n",
        "\r\n",
        "true negative (TN)\r\n",
        "    eqv. with correct rejection\r\n",
        "\r\n",
        "false positive (FP)\r\n",
        "    eqv. with false alarm, Type I error\r\n",
        "    \r\n",
        "false negative (FN)\r\n",
        "    eqv. with miss, Type II error"
      ]
    }
  ]
}